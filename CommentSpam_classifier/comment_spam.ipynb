{
  "nbformat": 4,
  "nbformat_minor": 0,
  "metadata": {
    "colab": {
      "name": "Bagidata_test2",
      "version": "0.3.2",
      "provenance": [],
      "collapsed_sections": []
    },
    "kernelspec": {
      "name": "python3",
      "display_name": "Python 3"
    }
  },
  "cells": [
    {
      "cell_type": "markdown",
      "metadata": {
        "id": "C0KDmpqEgTSe",
        "colab_type": "text"
      },
      "source": [
        "# TASK 2\n",
        "## SPAM COMMENT CLASSIFICATION\n",
        "In every task, I will show the step how to get the model and I will show the prediction step after that"
      ]
    },
    {
      "cell_type": "markdown",
      "metadata": {
        "id": "vciTimbChub3",
        "colab_type": "text"
      },
      "source": [
        "### Step 1: Import Package"
      ]
    },
    {
      "cell_type": "code",
      "metadata": {
        "id": "7VMXNSXmqXT0",
        "colab_type": "code",
        "outputId": "16fed425-4d49-45a1-d550-05457f703ff1",
        "colab": {
          "base_uri": "https://localhost:8080/",
          "height": 119
        }
      },
      "source": [
        "import pandas as pd, numpy as np\n",
        "import nltk\n",
        "from nltk import word_tokenize\n",
        "nltk.download('punkt')\n",
        "nltk.download('stopwords')\n",
        "nltk.download('wordnet')\n",
        "from nltk.corpus import stopwords\n",
        "from nltk.stem import WordNetLemmatizer\n",
        "from nltk.stem import PorterStemmer\n",
        "from nltk.stem import LancasterStemmer\n",
        "from nltk.tokenize.casual import TweetTokenizer\n",
        "import string\n",
        "import re\n",
        "from keras.models import Sequential\n",
        "from keras.layers import Dense, Activation,Flatten, Conv1D, MaxPooling1D, Dropout\n",
        "from keras.callbacks import ModelCheckpoint, EarlyStopping\n",
        "import matplotlib.pyplot as plt\n",
        "from keras.models import load_model\n",
        "d = {}"
      ],
      "execution_count": 26,
      "outputs": [
        {
          "output_type": "stream",
          "text": [
            "[nltk_data] Downloading package punkt to /root/nltk_data...\n",
            "[nltk_data]   Package punkt is already up-to-date!\n",
            "[nltk_data] Downloading package stopwords to /root/nltk_data...\n",
            "[nltk_data]   Package stopwords is already up-to-date!\n",
            "[nltk_data] Downloading package wordnet to /root/nltk_data...\n",
            "[nltk_data]   Package wordnet is already up-to-date!\n"
          ],
          "name": "stdout"
        }
      ]
    },
    {
      "cell_type": "markdown",
      "metadata": {
        "id": "PrV1H22cjk8Q",
        "colab_type": "text"
      },
      "source": [
        "### Step 2: Import File for Training and Testing"
      ]
    },
    {
      "cell_type": "code",
      "metadata": {
        "id": "ivAfw5B2rTzv",
        "colab_type": "code",
        "outputId": "1d65fa9e-cf50-4578-c606-625f88e63be6",
        "colab": {
          "base_uri": "https://localhost:8080/",
          "height": 1000
        }
      },
      "source": [
        "data=pd.read_csv('Comment Spam.csv', encoding='ISO-8859-1', sep=';')\n",
        "print(data)"
      ],
      "execution_count": 2,
      "outputs": [
        {
          "output_type": "stream",
          "text": [
            "        No                                            Comment  Class\n",
            "0        1                                this song is racist      0\n",
            "1        2  and how many subscribers compared to her over ...      1\n",
            "2        3  HI! CHECK OUT OUR AWESOME COVERS! AND SAY WHAT...      1\n",
            "3        4                                  well done shakira      0\n",
            "4        5                 :D subscribe to me for daily vines      1\n",
            "5        6  Part 2. Holy Mary, pray for us Holy Mother of ...      1\n",
            "6        7   I really can&#39;t comprehend Miley Cyrus , s...      1\n",
            "7        8                                      Nice song ^_^      0\n",
            "8        9                   This makes me miss the world cup      0\n",
            "9       10  ******* Facebook is LAME and so 2004! Check ou...      1\n",
            "10      11  I hope everyone is in good spirits I&#39;m a h...      1\n",
            "11      12                                                 :)      0\n",
            "12      13                                        She is good      0\n",
            "13      14  Subscribe to my Youtube Channel!! :) Suscribit...      1\n",
            "14      15                                          beautiful      0\n",
            "15      16  Earn money for being online with 0 efforts!   ...      1\n",
            "16      17  **CHECK OUT MY NEW MIXTAPE**** **CHECK OUT MY ...      1\n",
            "17      18  Hello everyone, It Is not my intention to spam...      1\n",
            "18      19  ******* Facebook is LAME and so 2004! Check ou...      1\n",
            "19      20  Could you please check out my covers on my cha...      1\n",
            "20      21  Hello everyone :) I know most of you probably ...      1\n",
            "21      22                               her voice is so wow!      0\n",
            "22      23  Hi there, have you heard about DribbleProShot?...      1\n",
            "23      24  Meet The Richest Online Marketer  NOW CLICK : ...      1\n",
            "24      25                                        Shakira :-*      0\n",
            "25      26                                                wow      0\n",
            "26      27                                          the best!      0\n",
            "27      28                         SUBSCRIBE ME AND I REQUITE      1\n",
            "28      29  You guys should check out this EXTRAORDINARY w...      1\n",
            "29      30                                 Shakira is perfect      0\n",
            "...    ...                                                ...    ...\n",
            "1270  1271  This Will Always Be My Favorite Song<br />But ...      0\n",
            "1271  1272  Come and watch my video it is called the odowd...      1\n",
            "1272  1273  Check out this video on YouTube: <a href=\"http...      1\n",
            "1273  1274  Love this song! My soccer team made a cd for o...      0\n",
            "1274  1275                                     super rihanna?      0\n",
            "1275  1276                   5th most viewed video.. i guess?      0\n",
            "1276  1277                                              Like?      0\n",
            "1277  1278                  Check out this video on YouTube:?      1\n",
            "1278  1279                                       tension?????      0\n",
            "1279  1280            watch?v=vtaRGgvGtWQ   Check this out .?      1\n",
            "1280  1281  Watch Maroon 5's latest 2nd single from V (It ...      1\n",
            "1281  1282  How is this the most watched Eminem video, it ...      0\n",
            "1282  1283  i love you katy perry because you will sing ni...      0\n",
            "1283  1284                  Check out this video on YouTube:?      1\n",
            "1284  1285                                  PARTY ROCK (8) ~?      0\n",
            "1285  1286  Gusttavo Lima Você não me conhece <br />Check ...      1\n",
            "1286  1287                cool song ever good thing its here?      0\n",
            "1287  1288                                  I lover this song      0\n",
            "1288  1289  Check out this video on YouTube<br /><br /><br...      1\n",
            "1289  1290                  Check out this video on YouTube:?      1\n",
            "1290  1291                            I love the way you lie?      0\n",
            "1291  1292                                   Love the video ?      0\n",
            "1292  1293  shuffle!!!!!!!!!!!!!!!!!!!!!!!!!!!!!!!!!!!!!!!...      0\n",
            "1293  1294  https://www.facebook.com/pages/Brew-Crew-2014/...      1\n",
            "1294  1295  Party rock anthem is love,party rock anthem is...      0\n",
            "1295  1296                                      Awsome<br />?      0\n",
            "1296  1297                https://www.tsu.co/KodysMan plz ^^?      1\n",
            "1297  1298  Sign up for free on TSU and start making money...      1\n",
            "1298  1299  MEGAN FOX AND EMINEM TOGETHER IN A VIDEO  DOES...      0\n",
            "1299  1300                              Great.This is a song?      0\n",
            "\n",
            "[1300 rows x 3 columns]\n"
          ],
          "name": "stdout"
        }
      ]
    },
    {
      "cell_type": "code",
      "metadata": {
        "id": "wt8CqU_GsTzV",
        "colab_type": "code",
        "outputId": "5788bcee-e40d-4ce4-e2c5-e5dcb22b3dbf",
        "colab": {
          "base_uri": "https://localhost:8080/",
          "height": 1000
        }
      },
      "source": [
        "data_komen=data['Comment']\n",
        "print(data_komen)"
      ],
      "execution_count": 3,
      "outputs": [
        {
          "output_type": "stream",
          "text": [
            "0                                     this song is racist\n",
            "1       and how many subscribers compared to her over ...\n",
            "2       HI! CHECK OUT OUR AWESOME COVERS! AND SAY WHAT...\n",
            "3                                       well done shakira\n",
            "4                      :D subscribe to me for daily vines\n",
            "5       Part 2. Holy Mary, pray for us Holy Mother of ...\n",
            "6        I really can&#39;t comprehend Miley Cyrus , s...\n",
            "7                                           Nice song ^_^\n",
            "8                        This makes me miss the world cup\n",
            "9       ******* Facebook is LAME and so 2004! Check ou...\n",
            "10      I hope everyone is in good spirits I&#39;m a h...\n",
            "11                                                     :)\n",
            "12                                            She is good\n",
            "13      Subscribe to my Youtube Channel!! :) Suscribit...\n",
            "14                                              beautiful\n",
            "15      Earn money for being online with 0 efforts!   ...\n",
            "16      **CHECK OUT MY NEW MIXTAPE**** **CHECK OUT MY ...\n",
            "17      Hello everyone, It Is not my intention to spam...\n",
            "18      ******* Facebook is LAME and so 2004! Check ou...\n",
            "19      Could you please check out my covers on my cha...\n",
            "20      Hello everyone :) I know most of you probably ...\n",
            "21                                   her voice is so wow!\n",
            "22      Hi there, have you heard about DribbleProShot?...\n",
            "23      Meet The Richest Online Marketer  NOW CLICK : ...\n",
            "24                                            Shakira :-*\n",
            "25                                                    wow\n",
            "26                                              the best!\n",
            "27                             SUBSCRIBE ME AND I REQUITE\n",
            "28      You guys should check out this EXTRAORDINARY w...\n",
            "29                                     Shakira is perfect\n",
            "                              ...                        \n",
            "1270    This Will Always Be My Favorite Song<br />But ...\n",
            "1271    Come and watch my video it is called the odowd...\n",
            "1272    Check out this video on YouTube: <a href=\"http...\n",
            "1273    Love this song! My soccer team made a cd for o...\n",
            "1274                                       super rihanna?\n",
            "1275                     5th most viewed video.. i guess?\n",
            "1276                                                Like?\n",
            "1277                    Check out this video on YouTube:?\n",
            "1278                                         tension?????\n",
            "1279              watch?v=vtaRGgvGtWQ   Check this out .?\n",
            "1280    Watch Maroon 5's latest 2nd single from V (It ...\n",
            "1281    How is this the most watched Eminem video, it ...\n",
            "1282    i love you katy perry because you will sing ni...\n",
            "1283                    Check out this video on YouTube:?\n",
            "1284                                    PARTY ROCK (8) ~?\n",
            "1285    Gusttavo Lima Você não me conhece <br />Check ...\n",
            "1286                  cool song ever good thing its here?\n",
            "1287                                    I lover this song\n",
            "1288    Check out this video on YouTube<br /><br /><br...\n",
            "1289                    Check out this video on YouTube:?\n",
            "1290                              I love the way you lie?\n",
            "1291                                     Love the video ?\n",
            "1292    shuffle!!!!!!!!!!!!!!!!!!!!!!!!!!!!!!!!!!!!!!!...\n",
            "1293    https://www.facebook.com/pages/Brew-Crew-2014/...\n",
            "1294    Party rock anthem is love,party rock anthem is...\n",
            "1295                                        Awsome<br />?\n",
            "1296                  https://www.tsu.co/KodysMan plz ^^?\n",
            "1297    Sign up for free on TSU and start making money...\n",
            "1298    MEGAN FOX AND EMINEM TOGETHER IN A VIDEO  DOES...\n",
            "1299                                Great.This is a song?\n",
            "Name: Comment, Length: 1300, dtype: object\n"
          ],
          "name": "stdout"
        }
      ]
    },
    {
      "cell_type": "markdown",
      "metadata": {
        "id": "shyJBbH3jzAY",
        "colab_type": "text"
      },
      "source": [
        "### Step 3: Pre-processing"
      ]
    },
    {
      "cell_type": "code",
      "metadata": {
        "id": "q8PDW05hmQ2u",
        "colab_type": "code",
        "outputId": "d18d8fdc-47b5-4a2d-9210-7aaf7bc0fe26",
        "colab": {
          "base_uri": "https://localhost:8080/",
          "height": 34
        }
      },
      "source": [
        "komen_bersih1=[]\n",
        "link=r'https?://[A-Za-z0-9./-]+'\n",
        "for komen in data_komen:\n",
        "  komen=re.sub(link, \"\",komen)\n",
        "  komen=re.sub(\"[0-9]\", \"\", komen)\n",
        "  komen_bersih1.append(komen)\n",
        "print(komen_bersih1[1293])"
      ],
      "execution_count": 5,
      "outputs": [
        {
          "output_type": "stream",
          "text": [
            " Like this  facebook-page! Chance to win an Iphone S!?\n"
          ],
          "name": "stdout"
        }
      ]
    },
    {
      "cell_type": "code",
      "metadata": {
        "id": "4UP229EyrsXH",
        "colab_type": "code",
        "outputId": "b50bb553-0aa1-4cdb-817d-36104f0f0c3d",
        "colab": {
          "base_uri": "https://localhost:8080/",
          "height": 34
        }
      },
      "source": [
        "komen_word_tokenize=[]\n",
        "for komen in komen_bersih1:\n",
        "  komen=TweetTokenizer().tokenize(komen)\n",
        "  komen_word_tokenize.append(komen)\n",
        "print(komen_word_tokenize[1293])"
      ],
      "execution_count": 6,
      "outputs": [
        {
          "output_type": "stream",
          "text": [
            "['Like', 'this', 'facebook-page', '!', 'Chance', 'to', 'win', 'an', 'Iphone', 'S', '!', '?']\n"
          ],
          "name": "stdout"
        }
      ]
    },
    {
      "cell_type": "code",
      "metadata": {
        "id": "yznfpgFWkk0u",
        "colab_type": "code",
        "outputId": "07931497-5469-4200-f48f-9a53a7db95df",
        "colab": {
          "base_uri": "https://localhost:8080/",
          "height": 34
        }
      },
      "source": [
        "with open ('dictionary.txt') as text:\n",
        "    for line in text:\n",
        "        if line.strip():\n",
        "            key, val = line.split(None, 1)\n",
        "            d[key]=val.split()\n",
        "\n",
        "def mencaritypo(kata):\n",
        "    for key in d:\n",
        "        list1=d.get(key)\n",
        "        if kata in list1:\n",
        "            return key\n",
        "    return kata\n",
        "  \n",
        "def replacetypo(tupel):\n",
        "    temp_data=[]\n",
        "    for kalimat in tupel:\n",
        "        temp_kalimat=[]\n",
        "        for kata in kalimat:\n",
        "            lit=kata.replace(kata, mencaritypo(kata))\n",
        "            temp_kalimat.append(lit)\n",
        "        temp_data.append(temp_kalimat)      \n",
        "    return temp_data\n",
        "\n",
        "komen_emot = replacetypo(komen_word_tokenize)\n",
        "print(komen_emot[11])"
      ],
      "execution_count": 7,
      "outputs": [
        {
          "output_type": "stream",
          "text": [
            "['smile']\n"
          ],
          "name": "stdout"
        }
      ]
    },
    {
      "cell_type": "code",
      "metadata": {
        "id": "hJM1ToDy8c75",
        "colab_type": "code",
        "outputId": "1e493b39-0660-4d1b-e89c-60dd6fb4d855",
        "colab": {
          "base_uri": "https://localhost:8080/",
          "height": 34
        }
      },
      "source": [
        "komen_only=[]\n",
        "listtandabaca=set(['.',',','?','/',':',';','{','}','[',']','|','=','+','<','>','_','-','(',')','*','&','^','%','#','@','!'])\n",
        "for komen in komen_emot:\n",
        "  temp=[]\n",
        "  for item in komen:\n",
        "    if item not in listtandabaca:\n",
        "      temp.append(item.lower())\n",
        "  komen_only.append(temp)\n",
        "print(komen_only[1293])"
      ],
      "execution_count": 8,
      "outputs": [
        {
          "output_type": "stream",
          "text": [
            "['like', 'this', 'facebook-page', 'chance', 'to', 'win', 'an', 'iphone', 's']\n"
          ],
          "name": "stdout"
        }
      ]
    },
    {
      "cell_type": "code",
      "metadata": {
        "id": "QuTmQD40vY08",
        "colab_type": "code",
        "outputId": "2fe2fb55-c74e-4b01-f1ba-61089415c64e",
        "colab": {
          "base_uri": "https://localhost:8080/",
          "height": 241
        }
      },
      "source": [
        "pip install glove_python"
      ],
      "execution_count": 9,
      "outputs": [
        {
          "output_type": "stream",
          "text": [
            "Collecting glove_python\n",
            "\u001b[?25l  Downloading https://files.pythonhosted.org/packages/3e/79/7e7e548dd9dcb741935d031117f4bed133276c2a047aadad42f1552d1771/glove_python-0.1.0.tar.gz (263kB)\n",
            "\u001b[K     |████████████████████████████████| 266kB 5.0MB/s \n",
            "\u001b[?25hRequirement already satisfied: numpy in /usr/local/lib/python3.6/dist-packages (from glove_python) (1.16.5)\n",
            "Requirement already satisfied: scipy in /usr/local/lib/python3.6/dist-packages (from glove_python) (1.3.1)\n",
            "Building wheels for collected packages: glove-python\n",
            "  Building wheel for glove-python (setup.py) ... \u001b[?25l\u001b[?25hdone\n",
            "  Created wheel for glove-python: filename=glove_python-0.1.0-cp36-cp36m-linux_x86_64.whl size=700253 sha256=567ef12371b89cc157a05071ad4287febe89ab95976263ef698c4462478bdac7\n",
            "  Stored in directory: /root/.cache/pip/wheels/88/4b/6d/10c0d2ad32c9d9d68beec9694a6f0b6e83ab1662a90a089a4b\n",
            "Successfully built glove-python\n",
            "Installing collected packages: glove-python\n",
            "Successfully installed glove-python-0.1.0\n"
          ],
          "name": "stdout"
        }
      ]
    },
    {
      "cell_type": "markdown",
      "metadata": {
        "id": "Ej6Ax-amkEiZ",
        "colab_type": "text"
      },
      "source": [
        "### Step 4: Feature Extraction"
      ]
    },
    {
      "cell_type": "code",
      "metadata": {
        "id": "K5pAxZXtvZXi",
        "colab_type": "code",
        "outputId": "9672379c-cd3f-4c3e-e3e5-7dff40930ce4",
        "colab": {
          "base_uri": "https://localhost:8080/",
          "height": 544
        }
      },
      "source": [
        "#importing the glove library\n",
        "from glove import Corpus, Glove\n",
        "# creating a corpus object\n",
        "corpus = Corpus() \n",
        "#training the corpus to generate the co occurence matrix which is used in GloVe\n",
        "corpus.fit(komen_only, window=5)\n",
        "#creating a Glove object which will use the matrix created in the above lines to create embeddings\n",
        "#We can set the learning rate as it uses Gradient Descent and number of components\n",
        "glove = Glove(no_components=5, learning_rate=0.05)\n",
        " \n",
        "glove.fit(corpus.matrix, epochs=30, no_threads=4, verbose=True)\n",
        "glove.add_dictionary(corpus.dictionary)\n",
        "glove.save('glove2.model')"
      ],
      "execution_count": 10,
      "outputs": [
        {
          "output_type": "stream",
          "text": [
            "Performing 30 training epochs with 4 threads\n",
            "Epoch 0\n",
            "Epoch 1\n",
            "Epoch 2\n",
            "Epoch 3\n",
            "Epoch 4\n",
            "Epoch 5\n",
            "Epoch 6\n",
            "Epoch 7\n",
            "Epoch 8\n",
            "Epoch 9\n",
            "Epoch 10\n",
            "Epoch 11\n",
            "Epoch 12\n",
            "Epoch 13\n",
            "Epoch 14\n",
            "Epoch 15\n",
            "Epoch 16\n",
            "Epoch 17\n",
            "Epoch 18\n",
            "Epoch 19\n",
            "Epoch 20\n",
            "Epoch 21\n",
            "Epoch 22\n",
            "Epoch 23\n",
            "Epoch 24\n",
            "Epoch 25\n",
            "Epoch 26\n",
            "Epoch 27\n",
            "Epoch 28\n",
            "Epoch 29\n"
          ],
          "name": "stdout"
        }
      ]
    },
    {
      "cell_type": "code",
      "metadata": {
        "id": "unxTi5GVvmpi",
        "colab_type": "code",
        "colab": {}
      },
      "source": [
        "glove.add_dictionary(corpus.dictionary)"
      ],
      "execution_count": 0,
      "outputs": []
    },
    {
      "cell_type": "code",
      "metadata": {
        "id": "ilrhM55Wv0NT",
        "colab_type": "code",
        "outputId": "2396ba56-27df-4df4-d43b-3ee051ac54f8",
        "colab": {
          "base_uri": "https://localhost:8080/",
          "height": 34
        }
      },
      "source": [
        "print (glove.word_vectors[glove.dictionary['beautiful']])"
      ],
      "execution_count": 12,
      "outputs": [
        {
          "output_type": "stream",
          "text": [
            "[ 0.06768863  0.02605319 -0.1732963  -0.16988228  0.01360013]\n"
          ],
          "name": "stdout"
        }
      ]
    },
    {
      "cell_type": "code",
      "metadata": {
        "id": "reIBFEWGv2Yb",
        "colab_type": "code",
        "colab": {}
      },
      "source": [
        "import random\n",
        "max_len=max(len(kata) for kata in komen_only)\n",
        "\n",
        "def vectorize(dataset, maxlen):\n",
        "  vectorized_komen=[]\n",
        "  expected=[]\n",
        "  for kalimat in dataset:\n",
        "    sample_vecs=[]\n",
        "    for kata in kalimat:\n",
        "      try:\n",
        "        sample_vecs.append(glove.word_vectors[glove.dictionary[kata]])\n",
        "      except:\n",
        "        sample_vecs.append(np.random.uniform(0.0,0.0,5))\n",
        "    if len(sample_vecs)<maxlen:\n",
        "      add=maxlen-len(sample_vecs)\n",
        "      for _ in range(add):\n",
        "        sample_vecs.append(np.random.uniform(0.0,0.0,5))\n",
        "    sample_vecs=np.array(sample_vecs)\n",
        "    vectorized_komen.append(sample_vecs)\n",
        "  vectorized_komen=np.array(vectorized_komen)\n",
        "  return vectorized_komen"
      ],
      "execution_count": 0,
      "outputs": []
    },
    {
      "cell_type": "code",
      "metadata": {
        "id": "JOzjvc4wgIeM",
        "colab_type": "code",
        "colab": {
          "base_uri": "https://localhost:8080/",
          "height": 34
        },
        "outputId": "3261afa9-93da-4121-8c7b-42d6f4df40f2"
      },
      "source": [
        "max_len"
      ],
      "execution_count": 14,
      "outputs": [
        {
          "output_type": "execute_result",
          "data": {
            "text/plain": [
              "208"
            ]
          },
          "metadata": {
            "tags": []
          },
          "execution_count": 14
        }
      ]
    },
    {
      "cell_type": "code",
      "metadata": {
        "id": "pKJm-VY8wH5W",
        "colab_type": "code",
        "outputId": "6592276a-b416-43f0-a008-dcd1382f31c3",
        "colab": {
          "base_uri": "https://localhost:8080/",
          "height": 136
        }
      },
      "source": [
        "vektor_komen=vectorize(komen_only,max_len)\n",
        "vektor_komen[0]"
      ],
      "execution_count": 0,
      "outputs": [
        {
          "output_type": "execute_result",
          "data": {
            "text/plain": [
              "array([[-0.90503159,  0.41961604,  1.23528979, -0.21269456,  1.07244588],\n",
              "       [-0.51759033,  0.8241379 ,  0.67556987, -0.52630759,  0.52874512],\n",
              "       [-0.71927016,  0.636317  ,  0.55377084, -0.4538883 ,  0.53426924],\n",
              "       ...,\n",
              "       [ 0.        ,  0.        ,  0.        ,  0.        ,  0.        ],\n",
              "       [ 0.        ,  0.        ,  0.        ,  0.        ,  0.        ],\n",
              "       [ 0.        ,  0.        ,  0.        ,  0.        ,  0.        ]])"
            ]
          },
          "metadata": {
            "tags": []
          },
          "execution_count": 53
        }
      ]
    },
    {
      "cell_type": "markdown",
      "metadata": {
        "id": "RF0V1uT_kJw2",
        "colab_type": "text"
      },
      "source": [
        "### Step 5: Splitting Data"
      ]
    },
    {
      "cell_type": "code",
      "metadata": {
        "id": "NhHx3cGCwlqO",
        "colab_type": "code",
        "colab": {}
      },
      "source": [
        "#splitting data\n",
        "split_point=int(len(data)*.8)\n",
        "x_train = vektor_komen[:split_point]\n",
        "y_train = data['Class'][:split_point]\n",
        "x_test = vektor_komen[split_point:]\n",
        "y_test = data['Class'][split_point:]\n",
        "\n",
        "Y_train=pd.get_dummies(y_train).values\n",
        "Y_test=pd.get_dummies(y_test).values"
      ],
      "execution_count": 0,
      "outputs": []
    },
    {
      "cell_type": "markdown",
      "metadata": {
        "id": "q_ZLqCPRkO7T",
        "colab_type": "text"
      },
      "source": [
        "### Step 6: Build the Model"
      ]
    },
    {
      "cell_type": "code",
      "metadata": {
        "id": "IkrIMTDww2Ye",
        "colab_type": "code",
        "colab": {}
      },
      "source": [
        "#Membangun model\n",
        "model = Sequential()\n",
        "embedding_dims=5\n",
        "hidden_dims=10\n",
        "model.add(Conv1D(filters=10,\n",
        "                  strides=1,\n",
        "                  kernel_size=5,\n",
        "                  padding='valid',\n",
        "                  activation='relu',\n",
        "                  input_shape=(max_len, embedding_dims)))\n",
        "model.add(MaxPooling1D())\n",
        "model.add(Conv1D(filters=5,\n",
        "                 strides=1,\n",
        "                  kernel_size=5,\n",
        "                  padding='valid',\n",
        "                  activation='relu'))\n",
        "model.add(MaxPooling1D())\n",
        "model.add(Flatten())\n",
        "model.add(Dense(int(hidden_dims), activation='sigmoid'))\n",
        "model.add(Dense(int(hidden_dims/2), activation='sigmoid'))\n",
        "model.add(Dropout(0.3))\n",
        "model.add(Dense(2, activation='sigmoid'))\n",
        "model.compile(loss='categorical_crossentropy', optimizer='adam', metrics=['accuracy'])"
      ],
      "execution_count": 0,
      "outputs": []
    },
    {
      "cell_type": "code",
      "metadata": {
        "id": "IGjvg1mbw7H2",
        "colab_type": "code",
        "colab": {}
      },
      "source": [
        "pat = 30 #this is the number of epochs with no improvment after which the training will stop\n",
        "early_stopping = EarlyStopping(monitor='val_acc', patience=pat, verbose=1, mode='max')\n",
        "\n",
        "#define the model checkpoint callback -> this will keep on saving the model as a physical file\n",
        "model_checkpoint = ModelCheckpoint('best_model2',monitor='val_acc', verbose=1, save_best_only=True)"
      ],
      "execution_count": 0,
      "outputs": []
    },
    {
      "cell_type": "markdown",
      "metadata": {
        "id": "cwGkz5NvkayY",
        "colab_type": "text"
      },
      "source": [
        "### Step 7: Training and Testing the Model"
      ]
    },
    {
      "cell_type": "code",
      "metadata": {
        "id": "UpW4WJdbxFx7",
        "colab_type": "code",
        "outputId": "48f5dbf8-ab52-47f5-ca5e-4a12b96a8139",
        "colab": {
          "base_uri": "https://localhost:8080/",
          "height": 1000
        }
      },
      "source": [
        "hasil=model.fit(x_train, Y_train,\n",
        "         batch_size=5,\n",
        "         epochs=500,\n",
        "         verbose=2,\n",
        "         callbacks=[early_stopping, model_checkpoint],\n",
        "         validation_data=(x_test, Y_test))\n",
        "hasil"
      ],
      "execution_count": 0,
      "outputs": [
        {
          "output_type": "stream",
          "text": [
            "WARNING:tensorflow:From /usr/local/lib/python3.6/dist-packages/tensorflow/python/ops/math_grad.py:1250: add_dispatch_support.<locals>.wrapper (from tensorflow.python.ops.array_ops) is deprecated and will be removed in a future version.\n",
            "Instructions for updating:\n",
            "Use tf.where in 2.0, which has the same broadcast rule as np.where\n",
            "Train on 1040 samples, validate on 260 samples\n",
            "Epoch 1/500\n",
            " - 2s - loss: 0.7041 - acc: 0.5423 - val_loss: 0.7364 - val_acc: 0.4192\n",
            "\n",
            "Epoch 00001: val_acc improved from -inf to 0.41923, saving model to best_model2\n",
            "Epoch 2/500\n",
            " - 0s - loss: 0.6746 - acc: 0.5462 - val_loss: 0.6823 - val_acc: 0.4192\n",
            "\n",
            "Epoch 00002: val_acc did not improve from 0.41923\n",
            "Epoch 3/500\n",
            " - 0s - loss: 0.6208 - acc: 0.6250 - val_loss: 0.6177 - val_acc: 0.7808\n",
            "\n",
            "Epoch 00003: val_acc improved from 0.41923 to 0.78077, saving model to best_model2\n",
            "Epoch 4/500\n",
            " - 0s - loss: 0.5529 - acc: 0.8173 - val_loss: 0.5563 - val_acc: 0.8308\n",
            "\n",
            "Epoch 00004: val_acc improved from 0.78077 to 0.83077, saving model to best_model2\n",
            "Epoch 5/500\n",
            " - 0s - loss: 0.5051 - acc: 0.8462 - val_loss: 0.5055 - val_acc: 0.8423\n",
            "\n",
            "Epoch 00005: val_acc improved from 0.83077 to 0.84231, saving model to best_model2\n",
            "Epoch 6/500\n",
            " - 0s - loss: 0.4563 - acc: 0.8548 - val_loss: 0.4731 - val_acc: 0.8462\n",
            "\n",
            "Epoch 00006: val_acc improved from 0.84231 to 0.84615, saving model to best_model2\n",
            "Epoch 7/500\n",
            " - 0s - loss: 0.4304 - acc: 0.8452 - val_loss: 0.4480 - val_acc: 0.8346\n",
            "\n",
            "Epoch 00007: val_acc did not improve from 0.84615\n",
            "Epoch 8/500\n",
            " - 0s - loss: 0.4052 - acc: 0.8625 - val_loss: 0.4319 - val_acc: 0.8462\n",
            "\n",
            "Epoch 00008: val_acc did not improve from 0.84615\n",
            "Epoch 9/500\n",
            " - 0s - loss: 0.3948 - acc: 0.8538 - val_loss: 0.4317 - val_acc: 0.8423\n",
            "\n",
            "Epoch 00009: val_acc did not improve from 0.84615\n",
            "Epoch 10/500\n",
            " - 0s - loss: 0.3815 - acc: 0.8635 - val_loss: 0.4110 - val_acc: 0.8500\n",
            "\n",
            "Epoch 00010: val_acc improved from 0.84615 to 0.85000, saving model to best_model2\n",
            "Epoch 11/500\n",
            " - 0s - loss: 0.3653 - acc: 0.8596 - val_loss: 0.4013 - val_acc: 0.8423\n",
            "\n",
            "Epoch 00011: val_acc did not improve from 0.85000\n",
            "Epoch 12/500\n",
            " - 0s - loss: 0.3599 - acc: 0.8663 - val_loss: 0.3919 - val_acc: 0.8500\n",
            "\n",
            "Epoch 00012: val_acc improved from 0.85000 to 0.85000, saving model to best_model2\n",
            "Epoch 13/500\n",
            " - 0s - loss: 0.3459 - acc: 0.8644 - val_loss: 0.3961 - val_acc: 0.8423\n",
            "\n",
            "Epoch 00013: val_acc did not improve from 0.85000\n",
            "Epoch 14/500\n",
            " - 0s - loss: 0.3446 - acc: 0.8683 - val_loss: 0.3973 - val_acc: 0.8462\n",
            "\n",
            "Epoch 00014: val_acc did not improve from 0.85000\n",
            "Epoch 15/500\n",
            " - 0s - loss: 0.3445 - acc: 0.8654 - val_loss: 0.3885 - val_acc: 0.8346\n",
            "\n",
            "Epoch 00015: val_acc did not improve from 0.85000\n",
            "Epoch 16/500\n",
            " - 0s - loss: 0.3364 - acc: 0.8683 - val_loss: 0.3881 - val_acc: 0.8462\n",
            "\n",
            "Epoch 00016: val_acc did not improve from 0.85000\n",
            "Epoch 17/500\n",
            " - 0s - loss: 0.3419 - acc: 0.8731 - val_loss: 0.3864 - val_acc: 0.8423\n",
            "\n",
            "Epoch 00017: val_acc did not improve from 0.85000\n",
            "Epoch 18/500\n",
            " - 0s - loss: 0.3297 - acc: 0.8692 - val_loss: 0.3858 - val_acc: 0.8462\n",
            "\n",
            "Epoch 00018: val_acc did not improve from 0.85000\n",
            "Epoch 19/500\n",
            " - 0s - loss: 0.3239 - acc: 0.8712 - val_loss: 0.3890 - val_acc: 0.8423\n",
            "\n",
            "Epoch 00019: val_acc did not improve from 0.85000\n",
            "Epoch 20/500\n",
            " - 0s - loss: 0.3139 - acc: 0.8692 - val_loss: 0.3904 - val_acc: 0.8538\n",
            "\n",
            "Epoch 00020: val_acc improved from 0.85000 to 0.85385, saving model to best_model2\n",
            "Epoch 21/500\n",
            " - 1s - loss: 0.3241 - acc: 0.8702 - val_loss: 0.3868 - val_acc: 0.8538\n",
            "\n",
            "Epoch 00021: val_acc did not improve from 0.85385\n",
            "Epoch 22/500\n",
            " - 0s - loss: 0.3168 - acc: 0.8769 - val_loss: 0.3892 - val_acc: 0.8654\n",
            "\n",
            "Epoch 00022: val_acc improved from 0.85385 to 0.86538, saving model to best_model2\n",
            "Epoch 23/500\n",
            " - 0s - loss: 0.3120 - acc: 0.8779 - val_loss: 0.3877 - val_acc: 0.8500\n",
            "\n",
            "Epoch 00023: val_acc did not improve from 0.86538\n",
            "Epoch 24/500\n",
            " - 1s - loss: 0.3042 - acc: 0.8817 - val_loss: 0.3913 - val_acc: 0.8500\n",
            "\n",
            "Epoch 00024: val_acc did not improve from 0.86538\n",
            "Epoch 25/500\n",
            " - 0s - loss: 0.3091 - acc: 0.8808 - val_loss: 0.3898 - val_acc: 0.8462\n",
            "\n",
            "Epoch 00025: val_acc did not improve from 0.86538\n",
            "Epoch 26/500\n",
            " - 0s - loss: 0.3054 - acc: 0.8875 - val_loss: 0.4013 - val_acc: 0.8500\n",
            "\n",
            "Epoch 00026: val_acc did not improve from 0.86538\n",
            "Epoch 27/500\n",
            " - 0s - loss: 0.2974 - acc: 0.8885 - val_loss: 0.4265 - val_acc: 0.8385\n",
            "\n",
            "Epoch 00027: val_acc did not improve from 0.86538\n",
            "Epoch 28/500\n",
            " - 0s - loss: 0.3085 - acc: 0.8760 - val_loss: 0.4019 - val_acc: 0.8500\n",
            "\n",
            "Epoch 00028: val_acc did not improve from 0.86538\n",
            "Epoch 29/500\n",
            " - 0s - loss: 0.2986 - acc: 0.8827 - val_loss: 0.3970 - val_acc: 0.8385\n",
            "\n",
            "Epoch 00029: val_acc did not improve from 0.86538\n",
            "Epoch 30/500\n",
            " - 0s - loss: 0.2892 - acc: 0.8904 - val_loss: 0.3940 - val_acc: 0.8462\n",
            "\n",
            "Epoch 00030: val_acc did not improve from 0.86538\n",
            "Epoch 31/500\n",
            " - 0s - loss: 0.2913 - acc: 0.8865 - val_loss: 0.3992 - val_acc: 0.8385\n",
            "\n",
            "Epoch 00031: val_acc did not improve from 0.86538\n",
            "Epoch 32/500\n",
            " - 0s - loss: 0.2828 - acc: 0.8933 - val_loss: 0.4008 - val_acc: 0.8500\n",
            "\n",
            "Epoch 00032: val_acc did not improve from 0.86538\n",
            "Epoch 33/500\n",
            " - 0s - loss: 0.2741 - acc: 0.8962 - val_loss: 0.4054 - val_acc: 0.8500\n",
            "\n",
            "Epoch 00033: val_acc did not improve from 0.86538\n",
            "Epoch 34/500\n",
            " - 0s - loss: 0.2823 - acc: 0.8952 - val_loss: 0.4263 - val_acc: 0.8231\n",
            "\n",
            "Epoch 00034: val_acc did not improve from 0.86538\n",
            "Epoch 35/500\n",
            " - 0s - loss: 0.2782 - acc: 0.8933 - val_loss: 0.4055 - val_acc: 0.8500\n",
            "\n",
            "Epoch 00035: val_acc did not improve from 0.86538\n",
            "Epoch 36/500\n",
            " - 0s - loss: 0.2788 - acc: 0.9000 - val_loss: 0.4046 - val_acc: 0.8423\n",
            "\n",
            "Epoch 00036: val_acc did not improve from 0.86538\n",
            "Epoch 37/500\n",
            " - 0s - loss: 0.2693 - acc: 0.9000 - val_loss: 0.4129 - val_acc: 0.8385\n",
            "\n",
            "Epoch 00037: val_acc did not improve from 0.86538\n",
            "Epoch 38/500\n",
            " - 0s - loss: 0.2831 - acc: 0.8952 - val_loss: 0.4083 - val_acc: 0.8385\n",
            "\n",
            "Epoch 00038: val_acc did not improve from 0.86538\n",
            "Epoch 39/500\n",
            " - 0s - loss: 0.2634 - acc: 0.9067 - val_loss: 0.4150 - val_acc: 0.8346\n",
            "\n",
            "Epoch 00039: val_acc did not improve from 0.86538\n",
            "Epoch 40/500\n",
            " - 0s - loss: 0.2619 - acc: 0.9029 - val_loss: 0.4121 - val_acc: 0.8385\n",
            "\n",
            "Epoch 00040: val_acc did not improve from 0.86538\n",
            "Epoch 41/500\n",
            " - 0s - loss: 0.2656 - acc: 0.9038 - val_loss: 0.4107 - val_acc: 0.8500\n",
            "\n",
            "Epoch 00041: val_acc did not improve from 0.86538\n",
            "Epoch 42/500\n",
            " - 1s - loss: 0.2665 - acc: 0.9067 - val_loss: 0.4166 - val_acc: 0.8385\n",
            "\n",
            "Epoch 00042: val_acc did not improve from 0.86538\n",
            "Epoch 43/500\n",
            " - 0s - loss: 0.2648 - acc: 0.9010 - val_loss: 0.4267 - val_acc: 0.8269\n",
            "\n",
            "Epoch 00043: val_acc did not improve from 0.86538\n",
            "Epoch 44/500\n",
            " - 0s - loss: 0.2502 - acc: 0.9096 - val_loss: 0.4139 - val_acc: 0.8423\n",
            "\n",
            "Epoch 00044: val_acc did not improve from 0.86538\n",
            "Epoch 45/500\n",
            " - 0s - loss: 0.2431 - acc: 0.9096 - val_loss: 0.4225 - val_acc: 0.8346\n",
            "\n",
            "Epoch 00045: val_acc did not improve from 0.86538\n",
            "Epoch 46/500\n",
            " - 0s - loss: 0.2610 - acc: 0.9019 - val_loss: 0.4310 - val_acc: 0.8385\n",
            "\n",
            "Epoch 00046: val_acc did not improve from 0.86538\n",
            "Epoch 47/500\n",
            " - 0s - loss: 0.2570 - acc: 0.9029 - val_loss: 0.4220 - val_acc: 0.8423\n",
            "\n",
            "Epoch 00047: val_acc did not improve from 0.86538\n",
            "Epoch 48/500\n",
            " - 0s - loss: 0.2465 - acc: 0.9077 - val_loss: 0.4269 - val_acc: 0.8423\n",
            "\n",
            "Epoch 00048: val_acc did not improve from 0.86538\n",
            "Epoch 49/500\n",
            " - 0s - loss: 0.2525 - acc: 0.9058 - val_loss: 0.4440 - val_acc: 0.8346\n",
            "\n",
            "Epoch 00049: val_acc did not improve from 0.86538\n",
            "Epoch 50/500\n",
            " - 0s - loss: 0.2469 - acc: 0.9048 - val_loss: 0.4456 - val_acc: 0.8423\n",
            "\n",
            "Epoch 00050: val_acc did not improve from 0.86538\n",
            "Epoch 51/500\n",
            " - 0s - loss: 0.2430 - acc: 0.9096 - val_loss: 0.4350 - val_acc: 0.8423\n",
            "\n",
            "Epoch 00051: val_acc did not improve from 0.86538\n",
            "Epoch 52/500\n",
            " - 0s - loss: 0.2297 - acc: 0.9154 - val_loss: 0.4381 - val_acc: 0.8462\n",
            "\n",
            "Epoch 00052: val_acc did not improve from 0.86538\n",
            "Epoch 00052: early stopping\n"
          ],
          "name": "stdout"
        },
        {
          "output_type": "execute_result",
          "data": {
            "text/plain": [
              "<keras.callbacks.History at 0x7fed4bba1160>"
            ]
          },
          "metadata": {
            "tags": []
          },
          "execution_count": 61
        }
      ]
    },
    {
      "cell_type": "code",
      "metadata": {
        "id": "T9w2qEOVxLF_",
        "colab_type": "code",
        "outputId": "b716466f-3650-4b25-abc4-c798214716ee",
        "colab": {
          "base_uri": "https://localhost:8080/",
          "height": 295
        }
      },
      "source": [
        "plt.plot(hasil.history['val_acc'])\n",
        "plt.title('model accuracy')\n",
        "plt.ylabel('accuracy')\n",
        "plt.xlabel('epoch')\n",
        "plt.legend(['test'], loc='upper left')\n",
        "plt.show()"
      ],
      "execution_count": 0,
      "outputs": [
        {
          "output_type": "display_data",
          "data": {
            "image/png": "[encoded data removed]",
            "text/plain": [
              "<Figure size 432x288 with 1 Axes>"
            ]
          },
          "metadata": {
            "tags": []
          }
        }
      ]
    },
    {
      "cell_type": "markdown",
      "metadata": {
        "id": "jemeJCXZkiv_",
        "colab_type": "text"
      },
      "source": [
        "## Classifier\n",
        "In this part, I will make the classifier for user who want to classify their comment"
      ]
    },
    {
      "cell_type": "code",
      "metadata": {
        "id": "e8VBL4LtxbVf",
        "colab_type": "code",
        "colab": {}
      },
      "source": [
        "input_comment=('Please input your comment here')"
      ],
      "execution_count": 0,
      "outputs": []
    },
    {
      "cell_type": "code",
      "metadata": {
        "id": "nVUl-bjCk0j5",
        "colab_type": "code",
        "colab": {
          "base_uri": "https://localhost:8080/",
          "height": 34
        },
        "outputId": "be6360c4-4372-4f8c-8800-bb3c361f9b49"
      },
      "source": [
        "listtandabaca=set(['.',',','?','/',':',';','{','}','[',']','|','=','+','<','>','_','-','(',')','*','&','^','%','#','@','!'])\n",
        "link=r'https?://[A-Za-z0-9./-]+'\n",
        "input_data=re.sub(link,\"\",input_comment)\n",
        "input_data=re.sub('[0-9]',\"\",input_data)\n",
        "input_data=TweetTokenizer().tokenize(input_data)\n",
        "with open ('dictionary.txt') as text:\n",
        "    for line in text:\n",
        "        if line.strip():\n",
        "            key, val = line.split(None, 1)\n",
        "            d[key]=val.split()\n",
        "input_fix=[]\n",
        "input_fix.append(input_data)\n",
        "input_fix=replacetypo(input_fix)\n",
        "input_only=[]\n",
        "for komen in input_fix:\n",
        "  temp=[]\n",
        "  for item in komen:\n",
        "    if item not in listtandabaca:\n",
        "      temp.append(item.lower())\n",
        "  input_only.append(temp)\n",
        "vector_comment=vectorize(input_only,max_len)\n",
        "best_model=load_model('best_model2_86%')\n",
        "output=best_model.predict_classes(vector_comment)\n",
        "output=str(output)\n",
        "if output==('[0]'):\n",
        "  print('This comment is not a spam')\n",
        "elif output==('[1]'):\n",
        "  print('Watchout, THIS IS A SPAM!!!')\n",
        "else:\n",
        "  print('ERROR')"
      ],
      "execution_count": 29,
      "outputs": [
        {
          "output_type": "stream",
          "text": [
            "This comment is not a spam\n"
          ],
          "name": "stdout"
        }
      ]
    }
  ]
}