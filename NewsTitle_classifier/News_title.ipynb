{
  "nbformat": 4,
  "nbformat_minor": 0,
  "metadata": {
    "colab": {
      "name": "Bagidata_test",
      "version": "0.3.2",
      "provenance": [],
      "collapsed_sections": [],
      "toc_visible": true,
      "machine_shape": "hm"
    },
    "kernelspec": {
      "name": "python3",
      "display_name": "Python 3"
    }
  },
  "cells": [
    {
      "cell_type": "markdown",
      "metadata": {
        "id": "G-QLioaGjVX3",
        "colab_type": "text"
      },
      "source": [
        "# TASK 1\n",
        "## NEWS TITLE CLASSIFICATION\n",
        "In every task, I will show the step how to get the model and I will show the prediction step after that"
      ]
    },
    {
      "cell_type": "markdown",
      "metadata": {
        "id": "1FKX1Wv2kKCG",
        "colab_type": "text"
      },
      "source": [
        "### Step 1: Import package\n",
        "In this step, I use some package such as NLTK and Keras"
      ]
    },
    {
      "cell_type": "code",
      "metadata": {
        "id": "EUpjRYBXiJNj",
        "colab_type": "code",
        "outputId": "6a5237c9-e59c-4fcf-f461-be4f91e7506b",
        "colab": {
          "base_uri": "https://localhost:8080/",
          "height": 136
        }
      },
      "source": [
        "import pandas as pd, numpy as np\n",
        "import nltk\n",
        "from nltk import word_tokenize\n",
        "nltk.download('punkt')\n",
        "nltk.download('stopwords')\n",
        "nltk.download('wordnet')\n",
        "from nltk.corpus import stopwords\n",
        "from nltk.stem import WordNetLemmatizer\n",
        "from nltk.stem import PorterStemmer\n",
        "from nltk.stem import LancasterStemmer\n",
        "import string\n",
        "import re\n",
        "from keras.models import Sequential\n",
        "from keras.layers import Dense, Activation,Flatten, Conv1D, MaxPooling1D, Dropout\n",
        "from keras.callbacks import ModelCheckpoint, EarlyStopping\n",
        "import matplotlib.pyplot as plt\n",
        "from keras.models import load_model"
      ],
      "execution_count": 1,
      "outputs": [
        {
          "output_type": "stream",
          "text": [
            "[nltk_data] Downloading package punkt to /root/nltk_data...\n",
            "[nltk_data]   Unzipping tokenizers/punkt.zip.\n",
            "[nltk_data] Downloading package stopwords to /root/nltk_data...\n",
            "[nltk_data]   Unzipping corpora/stopwords.zip.\n",
            "[nltk_data] Downloading package wordnet to /root/nltk_data...\n",
            "[nltk_data]   Unzipping corpora/wordnet.zip.\n"
          ],
          "name": "stdout"
        },
        {
          "output_type": "stream",
          "text": [
            "Using TensorFlow backend.\n"
          ],
          "name": "stderr"
        }
      ]
    },
    {
      "cell_type": "markdown",
      "metadata": {
        "id": "uCurW8nJkig-",
        "colab_type": "text"
      },
      "source": [
        "### Step 2: Import file for training and testing"
      ]
    },
    {
      "cell_type": "code",
      "metadata": {
        "id": "xM8BLjAVipgh",
        "colab_type": "code",
        "outputId": "9db9e56c-39d2-47c1-aac9-b23621771540",
        "colab": {
          "base_uri": "https://localhost:8080/",
          "height": 1000
        }
      },
      "source": [
        "data=pd.read_csv('News Title.csv', encoding='ISO-8859-1', sep=';')\n",
        "print(data)"
      ],
      "execution_count": 2,
      "outputs": [
        {
          "output_type": "stream",
          "text": [
            "          No                                         News Title       Category\n",
            "0          1  Google+ rolls out 'Stories' for tricked out ph...     Technology\n",
            "1          2                    Dov Charney's Redeeming Quality       Business\n",
            "2          3   White God adds Un Certain Regard to the Palm Dog  Entertainment\n",
            "3          4  Google shows off Androids for wearables, cars,...     Technology\n",
            "4          5         China May new bank loans at 870.8 bln yuan       Business\n",
            "5          6  Firefox Windows 8 Metro Browser Development Ca...     Technology\n",
            "6          7                     Destiny Beta Kicks Off In July     Technology\n",
            "7          8         Apple & Google's Motorola end legal battle     Technology\n",
            "8          9  UPDATE 2-Facebook Q1 revenue grows 72 percent ...       Business\n",
            "9         10  Selena Gomez, Justin Bieber Spotted at the Sam...  Entertainment\n",
            "10        11  Titanfall: Gameplay basics, release date, DLC ...     Technology\n",
            "11        12  Angela Bassett to direct Whitney Houston biopi...  Entertainment\n",
            "12        13  German Museum Lets You Talk to van Gogh's Regr...  Entertainment\n",
            "13        14           Iraq crisis fuels concern for oil prices     Technology\n",
            "14        15  BC doctor OK, not in quarantine after Ebola ai...        Medical\n",
            "15        16  GM recalling nearly 29000 Chevrolet Cruzes to ...     Technology\n",
            "16        17           Local Experts Weigh in on Climate Change     Technology\n",
            "17        18  Samsung Reportedly Explored Acquiring Company ...     Technology\n",
            "18        19  'Ghost Stories' by Coldplay Hits No. 1 on Bill...  Entertainment\n",
            "19        20      Hackers raid eBay, access 145 million records     Technology\n",
            "20        21  Most people ready to just assume Colin Kaepern...       Business\n",
            "21        22  Sound off: US Patent Office cancels Redskins t...       Business\n",
            "22        23  Beyonce - Beyonce Makes Surprise Appearance At...  Entertainment\n",
            "23        24  Mark Cuban: Potential flash crash bigger issue...       Business\n",
            "24        25             Apple to launch 8GB iPhone 5c tomorrow     Technology\n",
            "25        26  Westhus Reaping Fannie Windfall to Rival Big S...       Business\n",
            "26        27  US stocks open higher, extending modest rally;...       Business\n",
            "27        28                             Why KISS won't make up  Entertainment\n",
            "28        29  Report: Edgar Wright Walked Off Ant-Man After ...  Entertainment\n",
            "29        30  As I Lay Dying Singer Sentenced To Six Years I...  Entertainment\n",
            "...      ...                                                ...            ...\n",
            "65505  65506  Lupita Nyong'o is People magazine's Most Beaut...  Entertainment\n",
            "65506  65507  NASA testing vehicles in High Arctic to use on...     Technology\n",
            "65507  65508  The Roots act as house band for Minaj, Sheeran...  Entertainment\n",
            "65508  65509  'Fargo' gives actress Allison Tolman that big ...  Entertainment\n",
            "65509  65510        New Kurt Cobain death scene photos released  Entertainment\n",
            "65510  65511  Diane Sawyer Stepping Down From ABC's 'World N...  Entertainment\n",
            "65511  65512  Gotham To Get Full Series, Extended Trailer Re...  Entertainment\n",
            "65512  65513  AbbVie comes up with higher offer for Shire of...       Business\n",
            "65513  65514  Big tech companies offer millions to help with...     Technology\n",
            "65514  65515  Probe launched into Harrison Ford injury on 'S...  Entertainment\n",
            "65515  65516  1888 shipwreck in San Francisco Bay hailed as ...     Technology\n",
            "65516  65517  Kaiser reports Monday's pharmacist strike canc...        Medical\n",
            "65517  65518         Where Is Walgreens' Competitive Advantage?       Business\n",
            "65518  65519  Video of mother bear rescuing cub from side of...  Entertainment\n",
            "65519  65520  $2000 bond set for East Tenn. mom charged unde...        Medical\n",
            "65520  65521           Bigger iPad Necessary for Apple: Munster     Technology\n",
            "65521  65522  Gwen Stefani to Replace Christina Aguilera on ...  Entertainment\n",
            "65522  65523  George Zimmerman is 'guest of honor' at Florid...  Entertainment\n",
            "65523  65524  Dave Chappelle Describes The Moment He Realize...  Entertainment\n",
            "65524  65525                           Walmart recalls toy doll        Medical\n",
            "65525  65526  First-ever NAMIWalk in Alabama raises $55000 t...        Medical\n",
            "65526  65527  CEO event suggests Microsoft Office for iPad i...     Technology\n",
            "65527  65528  Going green: Seacoast celebrates St. Patrick's...  Entertainment\n",
            "65528  65529  Lenovo's First Consumer Chromebook: N20 and N2...     Technology\n",
            "65529  65530                   CFDA Awards 2014: what they wore  Entertainment\n",
            "65530  65531  Xbox One Homebrew Will Likely Be a Reality in ...     Technology\n",
            "65531  65532  Maker Recalls 1.9 Million Rear-Facing Infant S...     Technology\n",
            "65532  65533                Watch first 'Ninja Turtles' trailer  Entertainment\n",
            "65533  65534  23/05/2014Dogs triumph in Cannes as canine thr...  Entertainment\n",
            "65534  65535  FrontPoint Security CEO Chris Villar Ranked No...       Business\n",
            "\n",
            "[65535 rows x 3 columns]\n"
          ],
          "name": "stdout"
        }
      ]
    },
    {
      "cell_type": "code",
      "metadata": {
        "id": "j8jxp0mmi5C7",
        "colab_type": "code",
        "outputId": "72c7ee00-2971-4472-dc2f-56d486ac0cb7",
        "colab": {
          "base_uri": "https://localhost:8080/",
          "height": 1000
        }
      },
      "source": [
        "data_judul=data['News Title']\n",
        "print(data_judul)"
      ],
      "execution_count": 3,
      "outputs": [
        {
          "output_type": "stream",
          "text": [
            "0        Google+ rolls out 'Stories' for tricked out ph...\n",
            "1                          Dov Charney's Redeeming Quality\n",
            "2         White God adds Un Certain Regard to the Palm Dog\n",
            "3        Google shows off Androids for wearables, cars,...\n",
            "4               China May new bank loans at 870.8 bln yuan\n",
            "5        Firefox Windows 8 Metro Browser Development Ca...\n",
            "6                           Destiny Beta Kicks Off In July\n",
            "7               Apple & Google's Motorola end legal battle\n",
            "8        UPDATE 2-Facebook Q1 revenue grows 72 percent ...\n",
            "9        Selena Gomez, Justin Bieber Spotted at the Sam...\n",
            "10       Titanfall: Gameplay basics, release date, DLC ...\n",
            "11       Angela Bassett to direct Whitney Houston biopi...\n",
            "12       German Museum Lets You Talk to van Gogh's Regr...\n",
            "13                Iraq crisis fuels concern for oil prices\n",
            "14       BC doctor OK, not in quarantine after Ebola ai...\n",
            "15       GM recalling nearly 29000 Chevrolet Cruzes to ...\n",
            "16                Local Experts Weigh in on Climate Change\n",
            "17       Samsung Reportedly Explored Acquiring Company ...\n",
            "18       'Ghost Stories' by Coldplay Hits No. 1 on Bill...\n",
            "19           Hackers raid eBay, access 145 million records\n",
            "20       Most people ready to just assume Colin Kaepern...\n",
            "21       Sound off: US Patent Office cancels Redskins t...\n",
            "22       Beyonce - Beyonce Makes Surprise Appearance At...\n",
            "23       Mark Cuban: Potential flash crash bigger issue...\n",
            "24                  Apple to launch 8GB iPhone 5c tomorrow\n",
            "25       Westhus Reaping Fannie Windfall to Rival Big S...\n",
            "26       US stocks open higher, extending modest rally;...\n",
            "27                                  Why KISS won't make up\n",
            "28       Report: Edgar Wright Walked Off Ant-Man After ...\n",
            "29       As I Lay Dying Singer Sentenced To Six Years I...\n",
            "                               ...                        \n",
            "65505    Lupita Nyong'o is People magazine's Most Beaut...\n",
            "65506    NASA testing vehicles in High Arctic to use on...\n",
            "65507    The Roots act as house band for Minaj, Sheeran...\n",
            "65508    'Fargo' gives actress Allison Tolman that big ...\n",
            "65509          New Kurt Cobain death scene photos released\n",
            "65510    Diane Sawyer Stepping Down From ABC's 'World N...\n",
            "65511    Gotham To Get Full Series, Extended Trailer Re...\n",
            "65512    AbbVie comes up with higher offer for Shire of...\n",
            "65513    Big tech companies offer millions to help with...\n",
            "65514    Probe launched into Harrison Ford injury on 'S...\n",
            "65515    1888 shipwreck in San Francisco Bay hailed as ...\n",
            "65516    Kaiser reports Monday's pharmacist strike canc...\n",
            "65517           Where Is Walgreens' Competitive Advantage?\n",
            "65518    Video of mother bear rescuing cub from side of...\n",
            "65519    $2000 bond set for East Tenn. mom charged unde...\n",
            "65520             Bigger iPad Necessary for Apple: Munster\n",
            "65521    Gwen Stefani to Replace Christina Aguilera on ...\n",
            "65522    George Zimmerman is 'guest of honor' at Florid...\n",
            "65523    Dave Chappelle Describes The Moment He Realize...\n",
            "65524                             Walmart recalls toy doll\n",
            "65525    First-ever NAMIWalk in Alabama raises $55000 t...\n",
            "65526    CEO event suggests Microsoft Office for iPad i...\n",
            "65527    Going green: Seacoast celebrates St. Patrick's...\n",
            "65528    Lenovo's First Consumer Chromebook: N20 and N2...\n",
            "65529                     CFDA Awards 2014: what they wore\n",
            "65530    Xbox One Homebrew Will Likely Be a Reality in ...\n",
            "65531    Maker Recalls 1.9 Million Rear-Facing Infant S...\n",
            "65532                  Watch first 'Ninja Turtles' trailer\n",
            "65533    23/05/2014Dogs triumph in Cannes as canine thr...\n",
            "65534    FrontPoint Security CEO Chris Villar Ranked No...\n",
            "Name: News Title, Length: 65535, dtype: object\n"
          ],
          "name": "stdout"
        }
      ]
    },
    {
      "cell_type": "markdown",
      "metadata": {
        "id": "XYLoZk0Vk8jR",
        "colab_type": "text"
      },
      "source": [
        "### Step 3: Pre-processing"
      ]
    },
    {
      "cell_type": "code",
      "metadata": {
        "id": "GH18cpL0i_ZY",
        "colab_type": "code",
        "outputId": "bd61b95e-32c1-4394-a223-b37f879bcecd",
        "colab": {
          "base_uri": "https://localhost:8080/",
          "height": 34
        }
      },
      "source": [
        "#casefolding\n",
        "judul_lower=[]\n",
        "for judul in data_judul:\n",
        "  letters_only = re.sub(\"[^a-zA-Z]\", \" \", judul)\n",
        "  letters_only=letters_only.lower()\n",
        "  judul_lower.append(letters_only)\n",
        "print(judul_lower[0])"
      ],
      "execution_count": 4,
      "outputs": [
        {
          "output_type": "stream",
          "text": [
            "google  rolls out  stories  for tricked out photo playback\n"
          ],
          "name": "stdout"
        }
      ]
    },
    {
      "cell_type": "code",
      "metadata": {
        "id": "Ncx0b0r3jIq0",
        "colab_type": "code",
        "outputId": "1afda2b8-88a8-4fd8-e6bc-822033858f5b",
        "colab": {
          "base_uri": "https://localhost:8080/",
          "height": 34
        }
      },
      "source": [
        "judul_word_tokenize=[]\n",
        "for judul in judul_lower:\n",
        "  judul=word_tokenize(judul)\n",
        "  judul_word_tokenize.append(judul)\n",
        "print(judul_word_tokenize[0])"
      ],
      "execution_count": 5,
      "outputs": [
        {
          "output_type": "stream",
          "text": [
            "['google', 'rolls', 'out', 'stories', 'for', 'tricked', 'out', 'photo', 'playback']\n"
          ],
          "name": "stdout"
        }
      ]
    },
    {
      "cell_type": "code",
      "metadata": {
        "id": "SRQ93N2Ljs2I",
        "colab_type": "code",
        "outputId": "988d8588-7c0e-49a9-cc94-44188440b43e",
        "colab": {
          "base_uri": "https://localhost:8080/",
          "height": 34
        }
      },
      "source": [
        "listStopwords=set(['.',',','(',')','?','/','-','?',\"'\"]+(stopwords.words('english')))\n",
        "\n",
        "judul_noStopwords=[]\n",
        "for judul in judul_word_tokenize:\n",
        "  temp=[]\n",
        "  for kata in judul:\n",
        "    if kata not in listStopwords:\n",
        "      temp.append(kata)\n",
        "  judul_noStopwords.append(temp)\n",
        "print(judul_noStopwords[0])"
      ],
      "execution_count": 6,
      "outputs": [
        {
          "output_type": "stream",
          "text": [
            "['google', 'rolls', 'stories', 'tricked', 'photo', 'playback']\n"
          ],
          "name": "stdout"
        }
      ]
    },
    {
      "cell_type": "code",
      "metadata": {
        "id": "xaB__VAmYyq5",
        "colab_type": "code",
        "outputId": "9f9c6416-7128-4150-cee9-38e7af940310",
        "colab": {
          "base_uri": "https://localhost:8080/",
          "height": 34
        }
      },
      "source": [
        "judul_fix=[]\n",
        "lemmatizer = WordNetLemmatizer()\n",
        "ps = PorterStemmer() \n",
        "for judul in judul_noStopwords:\n",
        "  temp=[]\n",
        "  for kata in judul:\n",
        "    kata=ps.stem(kata)\n",
        "    kata=lemmatizer.lemmatize(kata)\n",
        "    temp.append(kata)\n",
        "  judul_fix.append(temp)\n",
        "print(judul_fix[0])"
      ],
      "execution_count": 7,
      "outputs": [
        {
          "output_type": "stream",
          "text": [
            "['googl', 'roll', 'stori', 'trick', 'photo', 'playback']\n"
          ],
          "name": "stdout"
        }
      ]
    },
    {
      "cell_type": "code",
      "metadata": {
        "id": "Qe6y5DF_nMVQ",
        "colab_type": "code",
        "outputId": "305ceba2-fd47-4dfe-80bc-faf435ff2a9b",
        "colab": {
          "base_uri": "https://localhost:8080/",
          "height": 241
        }
      },
      "source": [
        "pip install glove_python"
      ],
      "execution_count": 8,
      "outputs": [
        {
          "output_type": "stream",
          "text": [
            "Collecting glove_python\n",
            "\u001b[?25l  Downloading https://files.pythonhosted.org/packages/3e/79/7e7e548dd9dcb741935d031117f4bed133276c2a047aadad42f1552d1771/glove_python-0.1.0.tar.gz (263kB)\n",
            "\r\u001b[K     |█▎                              | 10kB 22.7MB/s eta 0:00:01\r\u001b[K     |██▌                             | 20kB 6.1MB/s eta 0:00:01\r\u001b[K     |███▊                            | 30kB 8.6MB/s eta 0:00:01\r\u001b[K     |█████                           | 40kB 5.5MB/s eta 0:00:01\r\u001b[K     |██████▎                         | 51kB 6.7MB/s eta 0:00:01\r\u001b[K     |███████▌                        | 61kB 8.0MB/s eta 0:00:01\r\u001b[K     |████████▊                       | 71kB 9.1MB/s eta 0:00:01\r\u001b[K     |██████████                      | 81kB 10.2MB/s eta 0:00:01\r\u001b[K     |███████████▏                    | 92kB 11.3MB/s eta 0:00:01\r\u001b[K     |████████████▌                   | 102kB 8.8MB/s eta 0:00:01\r\u001b[K     |█████████████▊                  | 112kB 8.8MB/s eta 0:00:01\r\u001b[K     |███████████████                 | 122kB 8.8MB/s eta 0:00:01\r\u001b[K     |████████████████▏               | 133kB 8.8MB/s eta 0:00:01\r\u001b[K     |█████████████████▍              | 143kB 8.8MB/s eta 0:00:01\r\u001b[K     |██████████████████▊             | 153kB 8.8MB/s eta 0:00:01\r\u001b[K     |████████████████████            | 163kB 8.8MB/s eta 0:00:01\r\u001b[K     |█████████████████████▏          | 174kB 8.8MB/s eta 0:00:01\r\u001b[K     |██████████████████████▍         | 184kB 8.8MB/s eta 0:00:01\r\u001b[K     |███████████████████████▋        | 194kB 8.8MB/s eta 0:00:01\r\u001b[K     |█████████████████████████       | 204kB 8.8MB/s eta 0:00:01\r\u001b[K     |██████████████████████████▏     | 215kB 8.8MB/s eta 0:00:01\r\u001b[K     |███████████████████████████▍    | 225kB 8.8MB/s eta 0:00:01\r\u001b[K     |████████████████████████████▋   | 235kB 8.8MB/s eta 0:00:01\r\u001b[K     |█████████████████████████████▉  | 245kB 8.8MB/s eta 0:00:01\r\u001b[K     |███████████████████████████████▏| 256kB 8.8MB/s eta 0:00:01\r\u001b[K     |████████████████████████████████| 266kB 8.8MB/s \n",
            "\u001b[?25hRequirement already satisfied: numpy in /usr/local/lib/python3.6/dist-packages (from glove_python) (1.16.5)\n",
            "Requirement already satisfied: scipy in /usr/local/lib/python3.6/dist-packages (from glove_python) (1.3.1)\n",
            "Building wheels for collected packages: glove-python\n",
            "  Building wheel for glove-python (setup.py) ... \u001b[?25l\u001b[?25hdone\n",
            "  Created wheel for glove-python: filename=glove_python-0.1.0-cp36-cp36m-linux_x86_64.whl size=702645 sha256=8d4daab1ed99103724b5ffedb6a6902be538cc44d3fc7a06286b0ccb17d38f40\n",
            "  Stored in directory: /root/.cache/pip/wheels/88/4b/6d/10c0d2ad32c9d9d68beec9694a6f0b6e83ab1662a90a089a4b\n",
            "Successfully built glove-python\n",
            "Installing collected packages: glove-python\n",
            "Successfully installed glove-python-0.1.0\n"
          ],
          "name": "stdout"
        }
      ]
    },
    {
      "cell_type": "markdown",
      "metadata": {
        "id": "ZrMW7UXzlxWA",
        "colab_type": "text"
      },
      "source": [
        "### Step 4: Feature extraction"
      ]
    },
    {
      "cell_type": "code",
      "metadata": {
        "id": "v8RR0MzJrBYw",
        "colab_type": "code",
        "outputId": "9a6cbcce-0160-440f-f13c-220e0757d60b",
        "colab": {
          "base_uri": "https://localhost:8080/",
          "height": 544
        }
      },
      "source": [
        "#importing the glove library\n",
        "from glove import Corpus, Glove\n",
        "# creating a corpus object\n",
        "corpus = Corpus() \n",
        "#training the corpus to generate the co occurence matrix which is used in GloVe\n",
        "corpus.fit(judul_fix, window=5)\n",
        "#creating a Glove object which will use the matrix created in the above lines to create embeddings\n",
        "#We can set the learning rate as it uses Gradient Descent and number of components\n",
        "glove = Glove(no_components=5, learning_rate=0.05)\n",
        " \n",
        "glove.fit(corpus.matrix, epochs=30, no_threads=4, verbose=True)\n",
        "glove.add_dictionary(corpus.dictionary)\n",
        "glove.save('glove.model')"
      ],
      "execution_count": 9,
      "outputs": [
        {
          "output_type": "stream",
          "text": [
            "Performing 30 training epochs with 4 threads\n",
            "Epoch 0\n",
            "Epoch 1\n",
            "Epoch 2\n",
            "Epoch 3\n",
            "Epoch 4\n",
            "Epoch 5\n",
            "Epoch 6\n",
            "Epoch 7\n",
            "Epoch 8\n",
            "Epoch 9\n",
            "Epoch 10\n",
            "Epoch 11\n",
            "Epoch 12\n",
            "Epoch 13\n",
            "Epoch 14\n",
            "Epoch 15\n",
            "Epoch 16\n",
            "Epoch 17\n",
            "Epoch 18\n",
            "Epoch 19\n",
            "Epoch 20\n",
            "Epoch 21\n",
            "Epoch 22\n",
            "Epoch 23\n",
            "Epoch 24\n",
            "Epoch 25\n",
            "Epoch 26\n",
            "Epoch 27\n",
            "Epoch 28\n",
            "Epoch 29\n"
          ],
          "name": "stdout"
        }
      ]
    },
    {
      "cell_type": "code",
      "metadata": {
        "id": "tGsj5beXrwxN",
        "colab_type": "code",
        "colab": {}
      },
      "source": [
        "glove.add_dictionary(corpus.dictionary)"
      ],
      "execution_count": 0,
      "outputs": []
    },
    {
      "cell_type": "code",
      "metadata": {
        "id": "grZzOWO4r99U",
        "colab_type": "code",
        "outputId": "2290870e-3d83-4ca1-c305-bdd75941a759",
        "colab": {
          "base_uri": "https://localhost:8080/",
          "height": 34
        }
      },
      "source": [
        "print (glove.word_vectors[glove.dictionary['save']])"
      ],
      "execution_count": 11,
      "outputs": [
        {
          "output_type": "stream",
          "text": [
            "[-0.02362008  0.05458027 -0.14810861  0.02481528  0.47987024]\n"
          ],
          "name": "stdout"
        }
      ]
    },
    {
      "cell_type": "code",
      "metadata": {
        "id": "_9f1v8wxsG9i",
        "colab_type": "code",
        "colab": {}
      },
      "source": [
        "import random\n",
        "max_len=max(len(kata) for kata in judul_noStopwords)\n",
        "\n",
        "def vectorize(dataset, maxlen):\n",
        "  vectorized_judul=[]\n",
        "  expected=[]\n",
        "  for kalimat in dataset:\n",
        "    sample_vecs=[]\n",
        "    for kata in kalimat:\n",
        "      try:\n",
        "        sample_vecs.append(glove.word_vectors[glove.dictionary[kata]])\n",
        "      except:\n",
        "        sample_vecs.append(np.random.uniform(0.0,0.0,5))\n",
        "    if len(sample_vecs)<maxlen:\n",
        "      add=maxlen-len(sample_vecs)\n",
        "      for _ in range(add):\n",
        "        sample_vecs.append(np.random.uniform(0.0,0.0,5))\n",
        "    sample_vecs=np.array(sample_vecs)\n",
        "    vectorized_judul.append(sample_vecs)\n",
        "  vectorized_judul=np.array(vectorized_judul)\n",
        "  return vectorized_judul"
      ],
      "execution_count": 0,
      "outputs": []
    },
    {
      "cell_type": "code",
      "metadata": {
        "id": "ueOTk7GHvU0d",
        "colab_type": "code",
        "outputId": "87a73e79-3b07-4204-db17-4525d4979563",
        "colab": {
          "base_uri": "https://localhost:8080/",
          "height": 136
        }
      },
      "source": [
        "vektor_judul=vectorize(judul_fix,max_len)\n",
        "vektor_judul[0]"
      ],
      "execution_count": 0,
      "outputs": [
        {
          "output_type": "execute_result",
          "data": {
            "text/plain": [
              "array([[ 0.8848807 , -1.23089582, -0.61973445, -0.76218805, -0.06789763],\n",
              "       [ 0.63919636, -0.08347577, -0.75088754,  0.65652268,  0.74498895],\n",
              "       [ 0.05753406, -0.11515637, -0.20764657, -0.11720404, -0.46809217],\n",
              "       ...,\n",
              "       [ 0.        ,  0.        ,  0.        ,  0.        ,  0.        ],\n",
              "       [ 0.        ,  0.        ,  0.        ,  0.        ,  0.        ],\n",
              "       [ 0.        ,  0.        ,  0.        ,  0.        ,  0.        ]])"
            ]
          },
          "metadata": {
            "tags": []
          },
          "execution_count": 76
        }
      ]
    },
    {
      "cell_type": "markdown",
      "metadata": {
        "id": "90snVqj9l6Lp",
        "colab_type": "text"
      },
      "source": [
        "### Step 5: Splitting data"
      ]
    },
    {
      "cell_type": "code",
      "metadata": {
        "id": "Dn9sGvWVwwtu",
        "colab_type": "code",
        "colab": {}
      },
      "source": [
        "#splitting data\n",
        "split_point=int(len(data)*.8)\n",
        "x_train = vektor_judul[:split_point]\n",
        "y_train = data['Category'][:split_point]\n",
        "x_test = vektor_judul[split_point:]\n",
        "y_test = data['Category'][split_point:]\n",
        "\n",
        "Y_train=pd.get_dummies(y_train).values\n",
        "Y_test=pd.get_dummies(y_test).values"
      ],
      "execution_count": 0,
      "outputs": []
    },
    {
      "cell_type": "markdown",
      "metadata": {
        "id": "WMwt2QW0l_hJ",
        "colab_type": "text"
      },
      "source": [
        "### Step 6: Build the model"
      ]
    },
    {
      "cell_type": "code",
      "metadata": {
        "id": "5e7meiEqzcX-",
        "colab_type": "code",
        "outputId": "0a5e47f1-b40b-4227-f951-6030308e613d",
        "colab": {
          "base_uri": "https://localhost:8080/",
          "height": 343
        }
      },
      "source": [
        "#Membangun model\n",
        "model = Sequential()\n",
        "embedding_dims=5\n",
        "hidden_dims=10\n",
        "model.add(Conv1D(filters=10,\n",
        "                  strides=1,\n",
        "                  kernel_size=5,\n",
        "                  padding='valid',\n",
        "                  activation='relu',\n",
        "                  input_shape=(max_len, embedding_dims)))\n",
        "model.add(MaxPooling1D())\n",
        "model.add(Conv1D(filters=5,\n",
        "                 strides=1,\n",
        "                  kernel_size=5,\n",
        "                  padding='valid',\n",
        "                  activation='relu'))\n",
        "model.add(MaxPooling1D())\n",
        "model.add(Flatten())\n",
        "model.add(Dense(int(hidden_dims), activation='sigmoid'))\n",
        "model.add(Dense(int(hidden_dims/2), activation='sigmoid'))\n",
        "model.add(Dropout(0.3))\n",
        "model.add(Dense(4, activation='sigmoid'))\n",
        "model.compile(loss='categorical_crossentropy', optimizer='adam', metrics=['accuracy'])"
      ],
      "execution_count": 0,
      "outputs": [
        {
          "output_type": "stream",
          "text": [
            "WARNING: Logging before flag parsing goes to stderr.\n",
            "W0905 19:57:02.224848 139634723424128 deprecation_wrapper.py:119] From /usr/local/lib/python3.6/dist-packages/keras/backend/tensorflow_backend.py:66: The name tf.get_default_graph is deprecated. Please use tf.compat.v1.get_default_graph instead.\n",
            "\n",
            "W0905 19:57:02.285207 139634723424128 deprecation_wrapper.py:119] From /usr/local/lib/python3.6/dist-packages/keras/backend/tensorflow_backend.py:541: The name tf.placeholder is deprecated. Please use tf.compat.v1.placeholder instead.\n",
            "\n",
            "W0905 19:57:02.293201 139634723424128 deprecation_wrapper.py:119] From /usr/local/lib/python3.6/dist-packages/keras/backend/tensorflow_backend.py:4432: The name tf.random_uniform is deprecated. Please use tf.random.uniform instead.\n",
            "\n",
            "W0905 19:57:02.348000 139634723424128 deprecation_wrapper.py:119] From /usr/local/lib/python3.6/dist-packages/keras/backend/tensorflow_backend.py:4267: The name tf.nn.max_pool is deprecated. Please use tf.nn.max_pool2d instead.\n",
            "\n",
            "W0905 19:57:02.404165 139634723424128 deprecation_wrapper.py:119] From /usr/local/lib/python3.6/dist-packages/keras/backend/tensorflow_backend.py:148: The name tf.placeholder_with_default is deprecated. Please use tf.compat.v1.placeholder_with_default instead.\n",
            "\n",
            "W0905 19:57:02.412135 139634723424128 deprecation.py:506] From /usr/local/lib/python3.6/dist-packages/keras/backend/tensorflow_backend.py:3733: calling dropout (from tensorflow.python.ops.nn_ops) with keep_prob is deprecated and will be removed in a future version.\n",
            "Instructions for updating:\n",
            "Please use `rate` instead of `keep_prob`. Rate should be set to `rate = 1 - keep_prob`.\n",
            "W0905 19:57:02.438513 139634723424128 deprecation_wrapper.py:119] From /usr/local/lib/python3.6/dist-packages/keras/optimizers.py:793: The name tf.train.Optimizer is deprecated. Please use tf.compat.v1.train.Optimizer instead.\n",
            "\n",
            "W0905 19:57:02.458667 139634723424128 deprecation_wrapper.py:119] From /usr/local/lib/python3.6/dist-packages/keras/backend/tensorflow_backend.py:3576: The name tf.log is deprecated. Please use tf.math.log instead.\n",
            "\n"
          ],
          "name": "stderr"
        }
      ]
    },
    {
      "cell_type": "code",
      "metadata": {
        "id": "J4CCa383zfuD",
        "colab_type": "code",
        "colab": {}
      },
      "source": [
        "pat = 30 #this is the number of epochs with no improvment after which the training will stop\n",
        "early_stopping = EarlyStopping(monitor='val_acc', patience=pat, verbose=1, mode='max')\n",
        "\n",
        "#define the model checkpoint callback -> this will keep on saving the model as a physical file\n",
        "model_checkpoint = ModelCheckpoint('best_model',monitor='val_acc', verbose=1, save_best_only=True)"
      ],
      "execution_count": 0,
      "outputs": []
    },
    {
      "cell_type": "markdown",
      "metadata": {
        "id": "4kuh4a-kmHg_",
        "colab_type": "text"
      },
      "source": [
        "### Step 7: Training and testing the model"
      ]
    },
    {
      "cell_type": "code",
      "metadata": {
        "id": "3aS8wL_I0xde",
        "colab_type": "code",
        "outputId": "4b361b92-237b-41d6-add9-a627029f107e",
        "colab": {
          "base_uri": "https://localhost:8080/",
          "height": 1000
        }
      },
      "source": [
        "hasil=model.fit(x_train, Y_train,\n",
        "         batch_size=5,\n",
        "         epochs=500,\n",
        "         verbose=2,\n",
        "         callbacks=[early_stopping, model_checkpoint],\n",
        "         validation_data=(x_test, Y_test))\n",
        "hasil"
      ],
      "execution_count": 0,
      "outputs": [
        {
          "output_type": "stream",
          "text": [
            "W0905 19:57:02.610826 139634723424128 deprecation.py:323] From /usr/local/lib/python3.6/dist-packages/tensorflow/python/ops/math_grad.py:1250: add_dispatch_support.<locals>.wrapper (from tensorflow.python.ops.array_ops) is deprecated and will be removed in a future version.\n",
            "Instructions for updating:\n",
            "Use tf.where in 2.0, which has the same broadcast rule as np.where\n"
          ],
          "name": "stderr"
        },
        {
          "output_type": "stream",
          "text": [
            "Train on 52428 samples, validate on 13107 samples\n",
            "Epoch 1/500\n",
            " - 111s - loss: 1.2429 - acc: 0.4298 - val_loss: 1.1722 - val_acc: 0.4766\n",
            "\n",
            "Epoch 00001: val_acc improved from -inf to 0.47662, saving model to best_model\n",
            "Epoch 2/500\n",
            " - 111s - loss: 1.1793 - acc: 0.4761 - val_loss: 1.1470 - val_acc: 0.4875\n",
            "\n",
            "Epoch 00002: val_acc improved from 0.47662 to 0.48753, saving model to best_model\n",
            "Epoch 3/500\n",
            " - 111s - loss: 1.1389 - acc: 0.5042 - val_loss: 1.0626 - val_acc: 0.5660\n",
            "\n",
            "Epoch 00003: val_acc improved from 0.48753 to 0.56603, saving model to best_model\n",
            "Epoch 4/500\n",
            " - 111s - loss: 1.0898 - acc: 0.5332 - val_loss: 1.0320 - val_acc: 0.5815\n",
            "\n",
            "Epoch 00004: val_acc improved from 0.56603 to 0.58152, saving model to best_model\n",
            "Epoch 5/500\n",
            " - 110s - loss: 1.0716 - acc: 0.5381 - val_loss: 1.0010 - val_acc: 0.5917\n",
            "\n",
            "Epoch 00005: val_acc improved from 0.58152 to 0.59174, saving model to best_model\n",
            "Epoch 6/500\n",
            " - 111s - loss: 1.0526 - acc: 0.5525 - val_loss: 0.9866 - val_acc: 0.5957\n",
            "\n",
            "Epoch 00006: val_acc improved from 0.59174 to 0.59571, saving model to best_model\n",
            "Epoch 7/500\n",
            " - 110s - loss: 1.0420 - acc: 0.5571 - val_loss: 0.9763 - val_acc: 0.6014\n",
            "\n",
            "Epoch 00007: val_acc improved from 0.59571 to 0.60136, saving model to best_model\n",
            "Epoch 8/500\n",
            " - 111s - loss: 1.0320 - acc: 0.5596 - val_loss: 0.9631 - val_acc: 0.6076\n",
            "\n",
            "Epoch 00008: val_acc improved from 0.60136 to 0.60761, saving model to best_model\n",
            "Epoch 9/500\n",
            " - 111s - loss: 1.0219 - acc: 0.5652 - val_loss: 0.9560 - val_acc: 0.6103\n",
            "\n",
            "Epoch 00009: val_acc improved from 0.60761 to 0.61028, saving model to best_model\n",
            "Epoch 10/500\n",
            " - 111s - loss: 1.0147 - acc: 0.5675 - val_loss: 0.9560 - val_acc: 0.6145\n",
            "\n",
            "Epoch 00010: val_acc improved from 0.61028 to 0.61448, saving model to best_model\n",
            "Epoch 11/500\n",
            " - 111s - loss: 1.0154 - acc: 0.5670 - val_loss: 0.9416 - val_acc: 0.6167\n",
            "\n",
            "Epoch 00011: val_acc improved from 0.61448 to 0.61669, saving model to best_model\n",
            "Epoch 12/500\n",
            " - 112s - loss: 1.0087 - acc: 0.5690 - val_loss: 0.9478 - val_acc: 0.6138\n",
            "\n",
            "Epoch 00012: val_acc did not improve from 0.61669\n",
            "Epoch 13/500\n",
            " - 111s - loss: 1.0088 - acc: 0.5675 - val_loss: 0.9441 - val_acc: 0.6161\n",
            "\n",
            "Epoch 00013: val_acc did not improve from 0.61669\n",
            "Epoch 14/500\n",
            " - 112s - loss: 1.0053 - acc: 0.5710 - val_loss: 0.9390 - val_acc: 0.6178\n",
            "\n",
            "Epoch 00014: val_acc improved from 0.61669 to 0.61784, saving model to best_model\n",
            "Epoch 15/500\n",
            " - 111s - loss: 1.0013 - acc: 0.5702 - val_loss: 0.9354 - val_acc: 0.6186\n",
            "\n",
            "Epoch 00015: val_acc improved from 0.61784 to 0.61860, saving model to best_model\n",
            "Epoch 16/500\n",
            " - 111s - loss: 0.9989 - acc: 0.5732 - val_loss: 0.9391 - val_acc: 0.6161\n",
            "\n",
            "Epoch 00016: val_acc did not improve from 0.61860\n",
            "Epoch 17/500\n",
            " - 112s - loss: 0.9974 - acc: 0.5724 - val_loss: 0.9336 - val_acc: 0.6213\n",
            "\n",
            "Epoch 00017: val_acc improved from 0.61860 to 0.62127, saving model to best_model\n",
            "Epoch 18/500\n",
            " - 112s - loss: 0.9969 - acc: 0.5745 - val_loss: 0.9349 - val_acc: 0.6207\n",
            "\n",
            "Epoch 00018: val_acc did not improve from 0.62127\n",
            "Epoch 19/500\n",
            " - 111s - loss: 0.9945 - acc: 0.5748 - val_loss: 0.9277 - val_acc: 0.6239\n",
            "\n",
            "Epoch 00019: val_acc improved from 0.62127 to 0.62387, saving model to best_model\n",
            "Epoch 20/500\n",
            " - 112s - loss: 0.9935 - acc: 0.5730 - val_loss: 0.9313 - val_acc: 0.6222\n",
            "\n",
            "Epoch 00020: val_acc did not improve from 0.62387\n",
            "Epoch 21/500\n",
            " - 112s - loss: 0.9888 - acc: 0.5761 - val_loss: 0.9246 - val_acc: 0.6236\n",
            "\n",
            "Epoch 00021: val_acc did not improve from 0.62387\n",
            "Epoch 22/500\n",
            " - 112s - loss: 0.9876 - acc: 0.5778 - val_loss: 0.9349 - val_acc: 0.6203\n",
            "\n",
            "Epoch 00022: val_acc did not improve from 0.62387\n",
            "Epoch 23/500\n",
            " - 111s - loss: 0.9841 - acc: 0.5792 - val_loss: 0.9238 - val_acc: 0.6241\n",
            "\n",
            "Epoch 00023: val_acc improved from 0.62387 to 0.62409, saving model to best_model\n",
            "Epoch 24/500\n",
            " - 111s - loss: 0.9854 - acc: 0.5768 - val_loss: 0.9282 - val_acc: 0.6251\n",
            "\n",
            "Epoch 00024: val_acc improved from 0.62409 to 0.62509, saving model to best_model\n",
            "Epoch 25/500\n",
            " - 111s - loss: 0.9846 - acc: 0.5820 - val_loss: 0.9224 - val_acc: 0.6252\n",
            "\n",
            "Epoch 00025: val_acc improved from 0.62509 to 0.62524, saving model to best_model\n",
            "Epoch 26/500\n",
            " - 112s - loss: 0.9819 - acc: 0.5822 - val_loss: 0.9227 - val_acc: 0.6239\n",
            "\n",
            "Epoch 00026: val_acc did not improve from 0.62524\n",
            "Epoch 27/500\n",
            " - 111s - loss: 0.9854 - acc: 0.5812 - val_loss: 0.9250 - val_acc: 0.6259\n",
            "\n",
            "Epoch 00027: val_acc improved from 0.62524 to 0.62593, saving model to best_model\n",
            "Epoch 28/500\n",
            " - 112s - loss: 0.9815 - acc: 0.5847 - val_loss: 0.9170 - val_acc: 0.6268\n",
            "\n",
            "Epoch 00028: val_acc improved from 0.62593 to 0.62684, saving model to best_model\n",
            "Epoch 29/500\n",
            " - 111s - loss: 0.9814 - acc: 0.5848 - val_loss: 0.9224 - val_acc: 0.6230\n",
            "\n",
            "Epoch 00029: val_acc did not improve from 0.62684\n",
            "Epoch 30/500\n",
            " - 111s - loss: 0.9803 - acc: 0.5822 - val_loss: 0.9210 - val_acc: 0.6265\n",
            "\n",
            "Epoch 00030: val_acc did not improve from 0.62684\n",
            "Epoch 31/500\n",
            " - 112s - loss: 0.9798 - acc: 0.5842 - val_loss: 0.9245 - val_acc: 0.6249\n",
            "\n",
            "Epoch 00031: val_acc did not improve from 0.62684\n",
            "Epoch 32/500\n",
            " - 111s - loss: 0.9786 - acc: 0.5867 - val_loss: 0.9246 - val_acc: 0.6273\n",
            "\n",
            "Epoch 00032: val_acc improved from 0.62684 to 0.62730, saving model to best_model\n",
            "Epoch 33/500\n",
            " - 112s - loss: 0.9759 - acc: 0.5883 - val_loss: 0.9200 - val_acc: 0.6282\n",
            "\n",
            "Epoch 00033: val_acc improved from 0.62730 to 0.62821, saving model to best_model\n",
            "Epoch 34/500\n",
            " - 112s - loss: 0.9780 - acc: 0.5891 - val_loss: 0.9173 - val_acc: 0.6249\n",
            "\n",
            "Epoch 00034: val_acc did not improve from 0.62821\n",
            "Epoch 35/500\n",
            " - 111s - loss: 0.9788 - acc: 0.5884 - val_loss: 0.9186 - val_acc: 0.6259\n",
            "\n",
            "Epoch 00035: val_acc did not improve from 0.62821\n",
            "Epoch 36/500\n",
            " - 112s - loss: 0.9760 - acc: 0.5912 - val_loss: 0.9210 - val_acc: 0.6236\n",
            "\n",
            "Epoch 00036: val_acc did not improve from 0.62821\n",
            "Epoch 37/500\n",
            " - 112s - loss: 0.9770 - acc: 0.5910 - val_loss: 0.9196 - val_acc: 0.6239\n",
            "\n",
            "Epoch 00037: val_acc did not improve from 0.62821\n",
            "Epoch 38/500\n",
            " - 111s - loss: 0.9767 - acc: 0.5907 - val_loss: 0.9193 - val_acc: 0.6278\n",
            "\n",
            "Epoch 00038: val_acc did not improve from 0.62821\n",
            "Epoch 39/500\n",
            " - 113s - loss: 0.9772 - acc: 0.5899 - val_loss: 0.9126 - val_acc: 0.6253\n",
            "\n",
            "Epoch 00039: val_acc did not improve from 0.62821\n",
            "Epoch 40/500\n",
            " - 112s - loss: 0.9749 - acc: 0.5891 - val_loss: 0.9196 - val_acc: 0.6291\n",
            "\n",
            "Epoch 00040: val_acc improved from 0.62821 to 0.62913, saving model to best_model\n",
            "Epoch 41/500\n",
            " - 111s - loss: 0.9744 - acc: 0.5904 - val_loss: 0.9158 - val_acc: 0.6277\n",
            "\n",
            "Epoch 00041: val_acc did not improve from 0.62913\n",
            "Epoch 42/500\n",
            " - 112s - loss: 0.9766 - acc: 0.5911 - val_loss: 0.9224 - val_acc: 0.6275\n",
            "\n",
            "Epoch 00042: val_acc did not improve from 0.62913\n",
            "Epoch 43/500\n",
            " - 112s - loss: 0.9727 - acc: 0.5926 - val_loss: 0.9214 - val_acc: 0.6284\n",
            "\n",
            "Epoch 00043: val_acc did not improve from 0.62913\n",
            "Epoch 44/500\n",
            " - 112s - loss: 0.9757 - acc: 0.5914 - val_loss: 0.9204 - val_acc: 0.6304\n",
            "\n",
            "Epoch 00044: val_acc improved from 0.62913 to 0.63035, saving model to best_model\n",
            "Epoch 45/500\n",
            " - 113s - loss: 0.9730 - acc: 0.5925 - val_loss: 0.9242 - val_acc: 0.6269\n",
            "\n",
            "Epoch 00045: val_acc did not improve from 0.63035\n",
            "Epoch 46/500\n",
            " - 112s - loss: 0.9738 - acc: 0.5905 - val_loss: 0.9156 - val_acc: 0.6277\n",
            "\n",
            "Epoch 00046: val_acc did not improve from 0.63035\n",
            "Epoch 47/500\n",
            " - 113s - loss: 0.9723 - acc: 0.5916 - val_loss: 0.9195 - val_acc: 0.6265\n",
            "\n",
            "Epoch 00047: val_acc did not improve from 0.63035\n",
            "Epoch 48/500\n",
            " - 112s - loss: 0.9727 - acc: 0.5925 - val_loss: 0.9234 - val_acc: 0.6277\n",
            "\n",
            "Epoch 00048: val_acc did not improve from 0.63035\n",
            "Epoch 49/500\n",
            " - 112s - loss: 0.9743 - acc: 0.5917 - val_loss: 0.9202 - val_acc: 0.6268\n",
            "\n",
            "Epoch 00049: val_acc did not improve from 0.63035\n",
            "Epoch 50/500\n",
            " - 113s - loss: 0.9713 - acc: 0.5932 - val_loss: 0.9185 - val_acc: 0.6291\n",
            "\n",
            "Epoch 00050: val_acc did not improve from 0.63035\n",
            "Epoch 51/500\n",
            " - 112s - loss: 0.9733 - acc: 0.5924 - val_loss: 0.9192 - val_acc: 0.6242\n",
            "\n",
            "Epoch 00051: val_acc did not improve from 0.63035\n",
            "Epoch 52/500\n",
            " - 112s - loss: 0.9704 - acc: 0.5928 - val_loss: 0.9182 - val_acc: 0.6279\n",
            "\n",
            "Epoch 00052: val_acc did not improve from 0.63035\n",
            "Epoch 53/500\n",
            " - 113s - loss: 0.9700 - acc: 0.5933 - val_loss: 0.9172 - val_acc: 0.6315\n",
            "\n",
            "Epoch 00053: val_acc improved from 0.63035 to 0.63149, saving model to best_model\n",
            "Epoch 54/500\n",
            " - 111s - loss: 0.9717 - acc: 0.5923 - val_loss: 0.9182 - val_acc: 0.6272\n",
            "\n",
            "Epoch 00054: val_acc did not improve from 0.63149\n",
            "Epoch 55/500\n",
            " - 111s - loss: 0.9724 - acc: 0.5912 - val_loss: 0.9165 - val_acc: 0.6271\n",
            "\n",
            "Epoch 00055: val_acc did not improve from 0.63149\n",
            "Epoch 56/500\n",
            " - 111s - loss: 0.9690 - acc: 0.5929 - val_loss: 0.9191 - val_acc: 0.6311\n",
            "\n",
            "Epoch 00056: val_acc did not improve from 0.63149\n",
            "Epoch 57/500\n",
            " - 111s - loss: 0.9686 - acc: 0.5936 - val_loss: 0.9183 - val_acc: 0.6287\n",
            "\n",
            "Epoch 00057: val_acc did not improve from 0.63149\n",
            "Epoch 58/500\n",
            " - 111s - loss: 0.9694 - acc: 0.5956 - val_loss: 0.9206 - val_acc: 0.6258\n",
            "\n",
            "Epoch 00058: val_acc did not improve from 0.63149\n",
            "Epoch 59/500\n",
            " - 111s - loss: 0.9727 - acc: 0.5917 - val_loss: 0.9165 - val_acc: 0.6297\n",
            "\n",
            "Epoch 00059: val_acc did not improve from 0.63149\n",
            "Epoch 60/500\n",
            " - 110s - loss: 0.9694 - acc: 0.5945 - val_loss: 0.9218 - val_acc: 0.6266\n",
            "\n",
            "Epoch 00060: val_acc did not improve from 0.63149\n",
            "Epoch 61/500\n",
            " - 113s - loss: 0.9676 - acc: 0.5949 - val_loss: 0.9187 - val_acc: 0.6268\n",
            "\n",
            "Epoch 00061: val_acc did not improve from 0.63149\n",
            "Epoch 62/500\n",
            " - 111s - loss: 0.9697 - acc: 0.5935 - val_loss: 0.9187 - val_acc: 0.6292\n",
            "\n",
            "Epoch 00062: val_acc did not improve from 0.63149\n",
            "Epoch 63/500\n",
            " - 111s - loss: 0.9718 - acc: 0.5929 - val_loss: 0.9181 - val_acc: 0.6275\n",
            "\n",
            "Epoch 00063: val_acc did not improve from 0.63149\n",
            "Epoch 64/500\n",
            " - 112s - loss: 0.9684 - acc: 0.5954 - val_loss: 0.9298 - val_acc: 0.6248\n",
            "\n",
            "Epoch 00064: val_acc did not improve from 0.63149\n",
            "Epoch 65/500\n",
            " - 111s - loss: 0.9667 - acc: 0.5962 - val_loss: 0.9153 - val_acc: 0.6288\n",
            "\n",
            "Epoch 00065: val_acc did not improve from 0.63149\n",
            "Epoch 66/500\n",
            " - 111s - loss: 0.9672 - acc: 0.5964 - val_loss: 0.9191 - val_acc: 0.6266\n",
            "\n",
            "Epoch 00066: val_acc did not improve from 0.63149\n",
            "Epoch 67/500\n",
            " - 111s - loss: 0.9670 - acc: 0.5956 - val_loss: 0.9155 - val_acc: 0.6272\n",
            "\n",
            "Epoch 00067: val_acc did not improve from 0.63149\n",
            "Epoch 68/500\n",
            " - 110s - loss: 0.9691 - acc: 0.5952 - val_loss: 0.9101 - val_acc: 0.6307\n",
            "\n",
            "Epoch 00068: val_acc did not improve from 0.63149\n",
            "Epoch 69/500\n",
            " - 111s - loss: 0.9685 - acc: 0.5939 - val_loss: 0.9151 - val_acc: 0.6255\n",
            "\n",
            "Epoch 00069: val_acc did not improve from 0.63149\n",
            "Epoch 70/500\n",
            " - 112s - loss: 0.9656 - acc: 0.5953 - val_loss: 0.9177 - val_acc: 0.6282\n",
            "\n",
            "Epoch 00070: val_acc did not improve from 0.63149\n",
            "Epoch 71/500\n",
            " - 111s - loss: 0.9670 - acc: 0.5944 - val_loss: 0.9160 - val_acc: 0.6280\n",
            "\n",
            "Epoch 00071: val_acc did not improve from 0.63149\n",
            "Epoch 72/500\n",
            " - 112s - loss: 0.9625 - acc: 0.5984 - val_loss: 0.9158 - val_acc: 0.6271\n",
            "\n",
            "Epoch 00072: val_acc did not improve from 0.63149\n",
            "Epoch 73/500\n",
            " - 111s - loss: 0.9660 - acc: 0.5957 - val_loss: 0.9111 - val_acc: 0.6300\n",
            "\n",
            "Epoch 00073: val_acc did not improve from 0.63149\n",
            "Epoch 74/500\n",
            " - 111s - loss: 0.9649 - acc: 0.5945 - val_loss: 0.9137 - val_acc: 0.6312\n",
            "\n",
            "Epoch 00074: val_acc did not improve from 0.63149\n",
            "Epoch 75/500\n",
            " - 113s - loss: 0.9631 - acc: 0.5980 - val_loss: 0.9171 - val_acc: 0.6277\n",
            "\n",
            "Epoch 00075: val_acc did not improve from 0.63149\n",
            "Epoch 76/500\n",
            " - 111s - loss: 0.9670 - acc: 0.5963 - val_loss: 0.9165 - val_acc: 0.6278\n",
            "\n",
            "Epoch 00076: val_acc did not improve from 0.63149\n",
            "Epoch 77/500\n",
            " - 111s - loss: 0.9657 - acc: 0.5962 - val_loss: 0.9159 - val_acc: 0.6330\n",
            "\n",
            "Epoch 00077: val_acc improved from 0.63149 to 0.63302, saving model to best_model\n",
            "Epoch 78/500\n",
            " - 113s - loss: 0.9663 - acc: 0.5943 - val_loss: 0.9125 - val_acc: 0.6327\n",
            "\n",
            "Epoch 00078: val_acc did not improve from 0.63302\n",
            "Epoch 79/500\n",
            " - 111s - loss: 0.9648 - acc: 0.5971 - val_loss: 0.9120 - val_acc: 0.6309\n",
            "\n",
            "Epoch 00079: val_acc did not improve from 0.63302\n",
            "Epoch 80/500\n",
            " - 111s - loss: 0.9619 - acc: 0.5982 - val_loss: 0.9093 - val_acc: 0.6293\n",
            "\n",
            "Epoch 00080: val_acc did not improve from 0.63302\n",
            "Epoch 81/500\n",
            " - 113s - loss: 0.9623 - acc: 0.5965 - val_loss: 0.9108 - val_acc: 0.6322\n",
            "\n",
            "Epoch 00081: val_acc did not improve from 0.63302\n",
            "Epoch 82/500\n",
            " - 112s - loss: 0.9638 - acc: 0.5989 - val_loss: 0.9164 - val_acc: 0.6291\n",
            "\n",
            "Epoch 00082: val_acc did not improve from 0.63302\n",
            "Epoch 83/500\n",
            " - 112s - loss: 0.9625 - acc: 0.5982 - val_loss: 0.9133 - val_acc: 0.6323\n",
            "\n",
            "Epoch 00083: val_acc did not improve from 0.63302\n",
            "Epoch 84/500\n",
            " - 113s - loss: 0.9657 - acc: 0.5970 - val_loss: 0.9101 - val_acc: 0.6305\n",
            "\n",
            "Epoch 00084: val_acc did not improve from 0.63302\n",
            "Epoch 85/500\n",
            " - 112s - loss: 0.9636 - acc: 0.5957 - val_loss: 0.9094 - val_acc: 0.6317\n",
            "\n",
            "Epoch 00085: val_acc did not improve from 0.63302\n",
            "Epoch 86/500\n",
            " - 113s - loss: 0.9627 - acc: 0.5976 - val_loss: 0.9153 - val_acc: 0.6286\n",
            "\n",
            "Epoch 00086: val_acc did not improve from 0.63302\n",
            "Epoch 87/500\n",
            " - 112s - loss: 0.9656 - acc: 0.5937 - val_loss: 0.9110 - val_acc: 0.6297\n",
            "\n",
            "Epoch 00087: val_acc did not improve from 0.63302\n",
            "Epoch 88/500\n",
            " - 112s - loss: 0.9640 - acc: 0.5957 - val_loss: 0.9091 - val_acc: 0.6300\n",
            "\n",
            "Epoch 00088: val_acc did not improve from 0.63302\n",
            "Epoch 89/500\n",
            " - 111s - loss: 0.9640 - acc: 0.5961 - val_loss: 0.9136 - val_acc: 0.6294\n",
            "\n",
            "Epoch 00089: val_acc did not improve from 0.63302\n",
            "Epoch 90/500\n",
            " - 110s - loss: 0.9623 - acc: 0.5972 - val_loss: 0.9192 - val_acc: 0.6304\n",
            "\n",
            "Epoch 00090: val_acc did not improve from 0.63302\n",
            "Epoch 91/500\n",
            " - 110s - loss: 0.9625 - acc: 0.5967 - val_loss: 0.9102 - val_acc: 0.6317\n",
            "\n",
            "Epoch 00091: val_acc did not improve from 0.63302\n",
            "Epoch 92/500\n",
            " - 111s - loss: 0.9596 - acc: 0.5977 - val_loss: 0.9101 - val_acc: 0.6322\n",
            "\n",
            "Epoch 00092: val_acc did not improve from 0.63302\n",
            "Epoch 93/500\n",
            " - 110s - loss: 0.9637 - acc: 0.5954 - val_loss: 0.9095 - val_acc: 0.6322\n",
            "\n",
            "Epoch 00093: val_acc did not improve from 0.63302\n",
            "Epoch 94/500\n",
            " - 111s - loss: 0.9616 - acc: 0.5959 - val_loss: 0.9086 - val_acc: 0.6314\n",
            "\n",
            "Epoch 00094: val_acc did not improve from 0.63302\n",
            "Epoch 95/500\n",
            " - 111s - loss: 0.9636 - acc: 0.5992 - val_loss: 0.9076 - val_acc: 0.6300\n",
            "\n",
            "Epoch 00095: val_acc did not improve from 0.63302\n",
            "Epoch 96/500\n",
            " - 110s - loss: 0.9618 - acc: 0.5958 - val_loss: 0.9131 - val_acc: 0.6336\n",
            "\n",
            "Epoch 00096: val_acc improved from 0.63302 to 0.63355, saving model to best_model\n",
            "Epoch 97/500\n",
            " - 111s - loss: 0.9607 - acc: 0.6000 - val_loss: 0.9134 - val_acc: 0.6297\n",
            "\n",
            "Epoch 00097: val_acc did not improve from 0.63355\n",
            "Epoch 98/500\n",
            " - 111s - loss: 0.9622 - acc: 0.5986 - val_loss: 0.9070 - val_acc: 0.6293\n",
            "\n",
            "Epoch 00098: val_acc did not improve from 0.63355\n",
            "Epoch 99/500\n",
            " - 111s - loss: 0.9612 - acc: 0.5978 - val_loss: 0.9072 - val_acc: 0.6304\n",
            "\n",
            "Epoch 00099: val_acc did not improve from 0.63355\n",
            "Epoch 100/500\n",
            " - 110s - loss: 0.9617 - acc: 0.5984 - val_loss: 0.9077 - val_acc: 0.6323\n",
            "\n",
            "Epoch 00100: val_acc did not improve from 0.63355\n",
            "Epoch 101/500\n",
            " - 110s - loss: 0.9629 - acc: 0.5988 - val_loss: 0.9110 - val_acc: 0.6320\n",
            "\n",
            "Epoch 00101: val_acc did not improve from 0.63355\n",
            "Epoch 102/500\n",
            " - 111s - loss: 0.9602 - acc: 0.5979 - val_loss: 0.9078 - val_acc: 0.6330\n",
            "\n",
            "Epoch 00102: val_acc did not improve from 0.63355\n",
            "Epoch 103/500\n",
            " - 112s - loss: 0.9632 - acc: 0.5951 - val_loss: 0.9048 - val_acc: 0.6332\n",
            "\n",
            "Epoch 00103: val_acc did not improve from 0.63355\n",
            "Epoch 104/500\n",
            " - 111s - loss: 0.9606 - acc: 0.5990 - val_loss: 0.9092 - val_acc: 0.6319\n",
            "\n",
            "Epoch 00104: val_acc did not improve from 0.63355\n",
            "Epoch 105/500\n",
            " - 113s - loss: 0.9598 - acc: 0.5993 - val_loss: 0.9205 - val_acc: 0.6316\n",
            "\n",
            "Epoch 00105: val_acc did not improve from 0.63355\n",
            "Epoch 106/500\n",
            " - 113s - loss: 0.9615 - acc: 0.5997 - val_loss: 0.9076 - val_acc: 0.6326\n",
            "\n",
            "Epoch 00106: val_acc did not improve from 0.63355\n",
            "Epoch 107/500\n",
            " - 112s - loss: 0.9595 - acc: 0.5995 - val_loss: 0.9129 - val_acc: 0.6280\n",
            "\n",
            "Epoch 00107: val_acc did not improve from 0.63355\n",
            "Epoch 108/500\n",
            " - 112s - loss: 0.9608 - acc: 0.5991 - val_loss: 0.9146 - val_acc: 0.6271\n",
            "\n",
            "Epoch 00108: val_acc did not improve from 0.63355\n",
            "Epoch 109/500\n",
            " - 112s - loss: 0.9598 - acc: 0.5973 - val_loss: 0.9117 - val_acc: 0.6319\n",
            "\n",
            "Epoch 00109: val_acc did not improve from 0.63355\n",
            "Epoch 110/500\n",
            " - 111s - loss: 0.9602 - acc: 0.5997 - val_loss: 0.9055 - val_acc: 0.6310\n",
            "\n",
            "Epoch 00110: val_acc did not improve from 0.63355\n",
            "Epoch 111/500\n",
            " - 113s - loss: 0.9605 - acc: 0.5996 - val_loss: 0.9048 - val_acc: 0.6329\n",
            "\n",
            "Epoch 00111: val_acc did not improve from 0.63355\n",
            "Epoch 112/500\n",
            " - 113s - loss: 0.9597 - acc: 0.6005 - val_loss: 0.9041 - val_acc: 0.6339\n",
            "\n",
            "Epoch 00112: val_acc improved from 0.63355 to 0.63386, saving model to best_model\n",
            "Epoch 113/500\n",
            " - 111s - loss: 0.9611 - acc: 0.5999 - val_loss: 0.9060 - val_acc: 0.6334\n",
            "\n",
            "Epoch 00113: val_acc did not improve from 0.63386\n",
            "Epoch 114/500\n",
            " - 112s - loss: 0.9591 - acc: 0.6017 - val_loss: 0.9052 - val_acc: 0.6330\n",
            "\n",
            "Epoch 00114: val_acc did not improve from 0.63386\n",
            "Epoch 115/500\n",
            " - 111s - loss: 0.9598 - acc: 0.6003 - val_loss: 0.9076 - val_acc: 0.6342\n",
            "\n",
            "Epoch 00115: val_acc improved from 0.63386 to 0.63416, saving model to best_model\n",
            "Epoch 116/500\n",
            " - 111s - loss: 0.9610 - acc: 0.5996 - val_loss: 0.9093 - val_acc: 0.6286\n",
            "\n",
            "Epoch 00116: val_acc did not improve from 0.63416\n",
            "Epoch 117/500\n",
            " - 111s - loss: 0.9597 - acc: 0.5988 - val_loss: 0.9085 - val_acc: 0.6334\n",
            "\n",
            "Epoch 00117: val_acc did not improve from 0.63416\n",
            "Epoch 118/500\n",
            " - 109s - loss: 0.9598 - acc: 0.6001 - val_loss: 0.9060 - val_acc: 0.6352\n",
            "\n",
            "Epoch 00118: val_acc improved from 0.63416 to 0.63523, saving model to best_model\n",
            "Epoch 119/500\n",
            " - 111s - loss: 0.9588 - acc: 0.6012 - val_loss: 0.9063 - val_acc: 0.6351\n",
            "\n",
            "Epoch 00119: val_acc did not improve from 0.63523\n",
            "Epoch 120/500\n",
            " - 111s - loss: 0.9588 - acc: 0.5979 - val_loss: 0.9103 - val_acc: 0.6336\n",
            "\n",
            "Epoch 00120: val_acc did not improve from 0.63523\n",
            "Epoch 121/500\n",
            " - 110s - loss: 0.9575 - acc: 0.6011 - val_loss: 0.9083 - val_acc: 0.6337\n",
            "\n",
            "Epoch 00121: val_acc did not improve from 0.63523\n",
            "Epoch 122/500\n",
            " - 112s - loss: 0.9605 - acc: 0.5998 - val_loss: 0.9060 - val_acc: 0.6342\n",
            "\n",
            "Epoch 00122: val_acc did not improve from 0.63523\n",
            "Epoch 123/500\n",
            " - 111s - loss: 0.9608 - acc: 0.6002 - val_loss: 0.9068 - val_acc: 0.6320\n",
            "\n",
            "Epoch 00123: val_acc did not improve from 0.63523\n",
            "Epoch 124/500\n",
            " - 110s - loss: 0.9598 - acc: 0.5990 - val_loss: 0.9046 - val_acc: 0.6353\n",
            "\n",
            "Epoch 00124: val_acc improved from 0.63523 to 0.63531, saving model to best_model\n",
            "Epoch 125/500\n",
            " - 111s - loss: 0.9585 - acc: 0.6007 - val_loss: 0.9086 - val_acc: 0.6307\n",
            "\n",
            "Epoch 00125: val_acc did not improve from 0.63531\n",
            "Epoch 126/500\n",
            " - 111s - loss: 0.9603 - acc: 0.5987 - val_loss: 0.9066 - val_acc: 0.6310\n",
            "\n",
            "Epoch 00126: val_acc did not improve from 0.63531\n",
            "Epoch 127/500\n",
            " - 111s - loss: 0.9583 - acc: 0.6002 - val_loss: 0.9045 - val_acc: 0.6347\n",
            "\n",
            "Epoch 00127: val_acc did not improve from 0.63531\n",
            "Epoch 128/500\n",
            " - 110s - loss: 0.9582 - acc: 0.6010 - val_loss: 0.9084 - val_acc: 0.6322\n",
            "\n",
            "Epoch 00128: val_acc did not improve from 0.63531\n",
            "Epoch 129/500\n",
            " - 110s - loss: 0.9592 - acc: 0.5994 - val_loss: 0.9025 - val_acc: 0.6327\n",
            "\n",
            "Epoch 00129: val_acc did not improve from 0.63531\n",
            "Epoch 130/500\n",
            " - 111s - loss: 0.9593 - acc: 0.5998 - val_loss: 0.9076 - val_acc: 0.6303\n",
            "\n",
            "Epoch 00130: val_acc did not improve from 0.63531\n",
            "Epoch 131/500\n",
            " - 111s - loss: 0.9604 - acc: 0.6010 - val_loss: 0.9066 - val_acc: 0.6339\n",
            "\n",
            "Epoch 00131: val_acc did not improve from 0.63531\n",
            "Epoch 132/500\n",
            " - 109s - loss: 0.9610 - acc: 0.5995 - val_loss: 0.9098 - val_acc: 0.6304\n",
            "\n",
            "Epoch 00132: val_acc did not improve from 0.63531\n",
            "Epoch 133/500\n",
            " - 111s - loss: 0.9586 - acc: 0.6022 - val_loss: 0.9092 - val_acc: 0.6339\n",
            "\n",
            "Epoch 00133: val_acc did not improve from 0.63531\n",
            "Epoch 134/500\n",
            " - 111s - loss: 0.9580 - acc: 0.6006 - val_loss: 0.9033 - val_acc: 0.6330\n",
            "\n",
            "Epoch 00134: val_acc did not improve from 0.63531\n",
            "Epoch 135/500\n",
            " - 110s - loss: 0.9590 - acc: 0.6002 - val_loss: 0.9076 - val_acc: 0.6318\n",
            "\n",
            "Epoch 00135: val_acc did not improve from 0.63531\n",
            "Epoch 136/500\n",
            " - 110s - loss: 0.9574 - acc: 0.5988 - val_loss: 0.9016 - val_acc: 0.6313\n",
            "\n",
            "Epoch 00136: val_acc did not improve from 0.63531\n",
            "Epoch 137/500\n",
            " - 111s - loss: 0.9581 - acc: 0.6003 - val_loss: 0.9103 - val_acc: 0.6357\n",
            "\n",
            "Epoch 00137: val_acc improved from 0.63531 to 0.63569, saving model to best_model\n",
            "Epoch 138/500\n",
            " - 110s - loss: 0.9582 - acc: 0.5992 - val_loss: 0.9102 - val_acc: 0.6310\n",
            "\n",
            "Epoch 00138: val_acc did not improve from 0.63569\n",
            "Epoch 139/500\n",
            " - 110s - loss: 0.9574 - acc: 0.5997 - val_loss: 0.9026 - val_acc: 0.6310\n",
            "\n",
            "Epoch 00139: val_acc did not improve from 0.63569\n",
            "Epoch 140/500\n",
            " - 112s - loss: 0.9579 - acc: 0.6019 - val_loss: 0.9083 - val_acc: 0.6342\n",
            "\n",
            "Epoch 00140: val_acc did not improve from 0.63569\n",
            "Epoch 141/500\n",
            " - 111s - loss: 0.9569 - acc: 0.6019 - val_loss: 0.9059 - val_acc: 0.6345\n",
            "\n",
            "Epoch 00141: val_acc did not improve from 0.63569\n",
            "Epoch 142/500\n",
            " - 111s - loss: 0.9545 - acc: 0.6019 - val_loss: 0.9052 - val_acc: 0.6327\n",
            "\n",
            "Epoch 00142: val_acc did not improve from 0.63569\n",
            "Epoch 143/500\n",
            " - 109s - loss: 0.9592 - acc: 0.6005 - val_loss: 0.9061 - val_acc: 0.6341\n",
            "\n",
            "Epoch 00143: val_acc did not improve from 0.63569\n",
            "Epoch 144/500\n",
            " - 110s - loss: 0.9589 - acc: 0.6003 - val_loss: 0.9040 - val_acc: 0.6308\n",
            "\n",
            "Epoch 00144: val_acc did not improve from 0.63569\n",
            "Epoch 145/500\n",
            " - 111s - loss: 0.9548 - acc: 0.6003 - val_loss: 0.9060 - val_acc: 0.6334\n",
            "\n",
            "Epoch 00145: val_acc did not improve from 0.63569\n",
            "Epoch 146/500\n",
            " - 110s - loss: 0.9603 - acc: 0.5999 - val_loss: 0.9028 - val_acc: 0.6352\n",
            "\n",
            "Epoch 00146: val_acc did not improve from 0.63569\n",
            "Epoch 147/500\n",
            " - 110s - loss: 0.9556 - acc: 0.6007 - val_loss: 0.9047 - val_acc: 0.6329\n",
            "\n",
            "Epoch 00147: val_acc did not improve from 0.63569\n",
            "Epoch 148/500\n",
            " - 109s - loss: 0.9574 - acc: 0.6018 - val_loss: 0.9077 - val_acc: 0.6342\n",
            "\n",
            "Epoch 00148: val_acc did not improve from 0.63569\n",
            "Epoch 149/500\n",
            " - 108s - loss: 0.9557 - acc: 0.6002 - val_loss: 0.9039 - val_acc: 0.6339\n",
            "\n",
            "Epoch 00149: val_acc did not improve from 0.63569\n",
            "Epoch 150/500\n",
            " - 109s - loss: 0.9570 - acc: 0.6007 - val_loss: 0.9060 - val_acc: 0.6338\n",
            "\n",
            "Epoch 00150: val_acc did not improve from 0.63569\n",
            "Epoch 151/500\n",
            " - 109s - loss: 0.9580 - acc: 0.6003 - val_loss: 0.9077 - val_acc: 0.6303\n",
            "\n",
            "Epoch 00151: val_acc did not improve from 0.63569\n",
            "Epoch 152/500\n",
            " - 109s - loss: 0.9566 - acc: 0.6008 - val_loss: 0.9057 - val_acc: 0.6319\n",
            "\n",
            "Epoch 00152: val_acc did not improve from 0.63569\n",
            "Epoch 153/500\n",
            " - 109s - loss: 0.9560 - acc: 0.6025 - val_loss: 0.9069 - val_acc: 0.6334\n",
            "\n",
            "Epoch 00153: val_acc did not improve from 0.63569\n",
            "Epoch 154/500\n",
            " - 109s - loss: 0.9590 - acc: 0.6019 - val_loss: 0.9083 - val_acc: 0.6300\n",
            "\n",
            "Epoch 00154: val_acc did not improve from 0.63569\n",
            "Epoch 155/500\n",
            " - 108s - loss: 0.9567 - acc: 0.6001 - val_loss: 0.9068 - val_acc: 0.6298\n",
            "\n",
            "Epoch 00155: val_acc did not improve from 0.63569\n",
            "Epoch 156/500\n",
            " - 109s - loss: 0.9548 - acc: 0.6018 - val_loss: 0.9080 - val_acc: 0.6297\n",
            "\n",
            "Epoch 00156: val_acc did not improve from 0.63569\n",
            "Epoch 157/500\n",
            " - 110s - loss: 0.9550 - acc: 0.6018 - val_loss: 0.9065 - val_acc: 0.6308\n",
            "\n",
            "Epoch 00157: val_acc did not improve from 0.63569\n",
            "Epoch 158/500\n",
            " - 110s - loss: 0.9555 - acc: 0.6009 - val_loss: 0.9024 - val_acc: 0.6324\n",
            "\n",
            "Epoch 00158: val_acc did not improve from 0.63569\n",
            "Epoch 159/500\n",
            " - 109s - loss: 0.9551 - acc: 0.6016 - val_loss: 0.9052 - val_acc: 0.6294\n",
            "\n",
            "Epoch 00159: val_acc did not improve from 0.63569\n",
            "Epoch 160/500\n",
            " - 109s - loss: 0.9555 - acc: 0.6026 - val_loss: 0.9113 - val_acc: 0.6291\n",
            "\n",
            "Epoch 00160: val_acc did not improve from 0.63569\n",
            "Epoch 161/500\n",
            " - 110s - loss: 0.9564 - acc: 0.5991 - val_loss: 0.9024 - val_acc: 0.6282\n",
            "\n",
            "Epoch 00161: val_acc did not improve from 0.63569\n",
            "Epoch 162/500\n",
            " - 112s - loss: 0.9584 - acc: 0.5993 - val_loss: 0.9028 - val_acc: 0.6299\n",
            "\n",
            "Epoch 00162: val_acc did not improve from 0.63569\n",
            "Epoch 163/500\n",
            " - 111s - loss: 0.9578 - acc: 0.6003 - val_loss: 0.9054 - val_acc: 0.6321\n",
            "\n",
            "Epoch 00163: val_acc did not improve from 0.63569\n",
            "Epoch 164/500\n",
            " - 111s - loss: 0.9562 - acc: 0.6008 - val_loss: 0.9066 - val_acc: 0.6304\n",
            "\n",
            "Epoch 00164: val_acc did not improve from 0.63569\n",
            "Epoch 165/500\n",
            " - 109s - loss: 0.9580 - acc: 0.6007 - val_loss: 0.9055 - val_acc: 0.6319\n",
            "\n",
            "Epoch 00165: val_acc did not improve from 0.63569\n",
            "Epoch 166/500\n",
            " - 109s - loss: 0.9540 - acc: 0.5999 - val_loss: 0.9023 - val_acc: 0.6314\n",
            "\n",
            "Epoch 00166: val_acc did not improve from 0.63569\n",
            "Epoch 167/500\n",
            " - 108s - loss: 0.9588 - acc: 0.5991 - val_loss: 0.9048 - val_acc: 0.6293\n",
            "\n",
            "Epoch 00167: val_acc did not improve from 0.63569\n",
            "Epoch 00167: early stopping\n"
          ],
          "name": "stdout"
        },
        {
          "output_type": "execute_result",
          "data": {
            "text/plain": [
              "<keras.callbacks.History at 0x7efee8e1ab38>"
            ]
          },
          "metadata": {
            "tags": []
          },
          "execution_count": 17
        }
      ]
    },
    {
      "cell_type": "code",
      "metadata": {
        "id": "jUplrn9J1E_A",
        "colab_type": "code",
        "outputId": "9b1e2cfc-cce7-4825-d64d-9cd52f02ee2a",
        "colab": {
          "base_uri": "https://localhost:8080/",
          "height": 295
        }
      },
      "source": [
        "plt.plot(hasil.history['val_acc'])\n",
        "plt.title('model accuracy')\n",
        "plt.ylabel('accuracy')\n",
        "plt.xlabel('epoch')\n",
        "plt.legend(['test'], loc='upper left')\n",
        "plt.show()"
      ],
      "execution_count": 0,
      "outputs": [
        {
          "output_type": "display_data",
          "data": {
            "image/png": "[encoded data removed]",
            "text/plain": [
              "<Figure size 432x288 with 1 Axes>"
            ]
          },
          "metadata": {
            "tags": []
          }
        }
      ]
    },
    {
      "cell_type": "markdown",
      "metadata": {
        "id": "PXOLRihum719",
        "colab_type": "text"
      },
      "source": [
        "## Classifier\n",
        "In this part, I will make the classifier for user who want to classify their news title"
      ]
    },
    {
      "cell_type": "code",
      "metadata": {
        "id": "XFKx8Dq8HU54",
        "colab_type": "code",
        "colab": {}
      },
      "source": [
        "input_title=('Please input your title here')"
      ],
      "execution_count": 0,
      "outputs": []
    },
    {
      "cell_type": "code",
      "metadata": {
        "id": "fkqEdHhZnsIb",
        "colab_type": "code",
        "outputId": "45e0278c-910a-41a7-8f14-c3922be7c1ed",
        "colab": {
          "base_uri": "https://localhost:8080/",
          "height": 34
        }
      },
      "source": [
        "listStopwords=set(['.',',','(',')','?','/','-','?',\"'\"]+(stopwords.words('english')))\n",
        "lemmatizer = WordNetLemmatizer()\n",
        "ps = PorterStemmer() \n",
        "input_data=re.sub(\"[^a-zA-Z]\", \" \", input_title)\n",
        "input_data=input_data.lower()\n",
        "input_data=word_tokenize(input_data)\n",
        "temp=[]\n",
        "for kata in input_data:\n",
        "  if kata not in listStopwords:\n",
        "    kata=ps.stem(kata)\n",
        "    kata=lemmatizer.lemmatize(kata)\n",
        "    temp.append(kata)\n",
        "input_fix=[]\n",
        "input_fix.append(temp)\n",
        "best_model=load_model('best_model63%')\n",
        "vektor_input=vectorize(input_fix,3112)\n",
        "output=best_model.predict_classes(vektor_input)\n",
        "output=str(output)\n",
        "if output==('[0]'):\n",
        "  print('Category for this title is Business')\n",
        "elif output==('[1]'):\n",
        "  print('Category for this title is Entertainment')\n",
        "elif output==('[2]'):\n",
        "  print('Category for this title is Medical')\n",
        "elif output==('[3]'):\n",
        "  print('Category for this title is Technology')\n",
        "else:\n",
        "  print('ERROR')"
      ],
      "execution_count": 43,
      "outputs": [
        {
          "output_type": "stream",
          "text": [
            "Category for this title is Business\n"
          ],
          "name": "stdout"
        }
      ]
    }
  ]
}